{
  "nbformat": 4,
  "nbformat_minor": 0,
  "metadata": {
    "colab": {
      "name": "NNProject.ipynb",
      "provenance": [],
      "collapsed_sections": []
    },
    "kernelspec": {
      "name": "python3",
      "display_name": "Python 3"
    },
    "language_info": {
      "name": "python"
    }
  },
  "cells": [
    {
      "cell_type": "markdown",
      "metadata": {
        "id": "XU1R1Pi5ug94"
      },
      "source": [
        "**Import Libraries**"
      ]
    },
    {
      "cell_type": "code",
      "metadata": {
        "colab": {
          "base_uri": "https://localhost:8080/"
        },
        "id": "8pGDd22XgxDP",
        "outputId": "da998ce1-7649-4d7a-cfd2-1a3733288e3e"
      },
      "source": [
        "pip install -q -U keras-tuner"
      ],
      "execution_count": null,
      "outputs": [
        {
          "output_type": "stream",
          "text": [
            "\u001b[?25l\r\u001b[K     |█████▏                          | 10kB 13.3MB/s eta 0:00:01\r\u001b[K     |██████████▍                     | 20kB 14.2MB/s eta 0:00:01\r\u001b[K     |███████████████▋                | 30kB 10.0MB/s eta 0:00:01\r\u001b[K     |████████████████████▉           | 40kB 8.4MB/s eta 0:00:01\r\u001b[K     |██████████████████████████      | 51kB 4.7MB/s eta 0:00:01\r\u001b[K     |███████████████████████████████▎| 61kB 5.3MB/s eta 0:00:01\r\u001b[K     |████████████████████████████████| 71kB 3.2MB/s \n",
            "\u001b[?25h  Building wheel for keras-tuner (setup.py) ... \u001b[?25l\u001b[?25hdone\n",
            "  Building wheel for terminaltables (setup.py) ... \u001b[?25l\u001b[?25hdone\n"
          ],
          "name": "stdout"
        }
      ]
    },
    {
      "cell_type": "code",
      "metadata": {
        "id": "ebUg0P2At-I-"
      },
      "source": [
        "import pandas as pd\n",
        "import numpy as np\n",
        "import matplotlib.pyplot as plt\n",
        "import seaborn as sns\n",
        "\n",
        "import tensorflow as tf\n",
        "import kerastuner as kt\n",
        "from tensorflow import keras\n",
        "from tensorflow.keras import layers\n",
        "from sklearn import preprocessing"
      ],
      "execution_count": null,
      "outputs": []
    },
    {
      "cell_type": "code",
      "metadata": {
        "id": "LxY5pQTKugne"
      },
      "source": [
        "df = pd.read_csv(\"SeoulBikeData.csv\", encoding= 'unicode_escape')"
      ],
      "execution_count": null,
      "outputs": []
    },
    {
      "cell_type": "markdown",
      "metadata": {
        "id": "4uligL4EWXiF"
      },
      "source": [
        "**Preprocessing**\n",
        "\n"
      ]
    },
    {
      "cell_type": "code",
      "metadata": {
        "id": "vdJZKZaJvCJz",
        "colab": {
          "base_uri": "https://localhost:8080/",
          "height": 606
        },
        "outputId": "3748bdc7-2105-48da-f8dc-39cd55323015"
      },
      "source": [
        "df.replace(\"?\",np.NaN,inplace = True)\n",
        "df"
      ],
      "execution_count": null,
      "outputs": [
        {
          "output_type": "execute_result",
          "data": {
            "text/html": [
              "<div>\n",
              "<style scoped>\n",
              "    .dataframe tbody tr th:only-of-type {\n",
              "        vertical-align: middle;\n",
              "    }\n",
              "\n",
              "    .dataframe tbody tr th {\n",
              "        vertical-align: top;\n",
              "    }\n",
              "\n",
              "    .dataframe thead th {\n",
              "        text-align: right;\n",
              "    }\n",
              "</style>\n",
              "<table border=\"1\" class=\"dataframe\">\n",
              "  <thead>\n",
              "    <tr style=\"text-align: right;\">\n",
              "      <th></th>\n",
              "      <th>Date</th>\n",
              "      <th>Rented Bike Count</th>\n",
              "      <th>Hour</th>\n",
              "      <th>Temperature(°C)</th>\n",
              "      <th>Humidity(%)</th>\n",
              "      <th>Wind speed (m/s)</th>\n",
              "      <th>Visibility (10m)</th>\n",
              "      <th>Dew point temperature(°C)</th>\n",
              "      <th>Solar Radiation (MJ/m2)</th>\n",
              "      <th>Rainfall(mm)</th>\n",
              "      <th>Snowfall (cm)</th>\n",
              "      <th>Seasons</th>\n",
              "      <th>Holiday</th>\n",
              "      <th>Functioning Day</th>\n",
              "    </tr>\n",
              "  </thead>\n",
              "  <tbody>\n",
              "    <tr>\n",
              "      <th>0</th>\n",
              "      <td>01/12/2017</td>\n",
              "      <td>254</td>\n",
              "      <td>0</td>\n",
              "      <td>-5.2</td>\n",
              "      <td>37</td>\n",
              "      <td>2.2</td>\n",
              "      <td>2000</td>\n",
              "      <td>-17.6</td>\n",
              "      <td>0.0</td>\n",
              "      <td>0.0</td>\n",
              "      <td>0.0</td>\n",
              "      <td>Winter</td>\n",
              "      <td>No Holiday</td>\n",
              "      <td>Yes</td>\n",
              "    </tr>\n",
              "    <tr>\n",
              "      <th>1</th>\n",
              "      <td>01/12/2017</td>\n",
              "      <td>204</td>\n",
              "      <td>1</td>\n",
              "      <td>-5.5</td>\n",
              "      <td>38</td>\n",
              "      <td>0.8</td>\n",
              "      <td>2000</td>\n",
              "      <td>-17.6</td>\n",
              "      <td>0.0</td>\n",
              "      <td>0.0</td>\n",
              "      <td>0.0</td>\n",
              "      <td>Winter</td>\n",
              "      <td>No Holiday</td>\n",
              "      <td>Yes</td>\n",
              "    </tr>\n",
              "    <tr>\n",
              "      <th>2</th>\n",
              "      <td>01/12/2017</td>\n",
              "      <td>173</td>\n",
              "      <td>2</td>\n",
              "      <td>-6.0</td>\n",
              "      <td>39</td>\n",
              "      <td>1.0</td>\n",
              "      <td>2000</td>\n",
              "      <td>-17.7</td>\n",
              "      <td>0.0</td>\n",
              "      <td>0.0</td>\n",
              "      <td>0.0</td>\n",
              "      <td>Winter</td>\n",
              "      <td>No Holiday</td>\n",
              "      <td>Yes</td>\n",
              "    </tr>\n",
              "    <tr>\n",
              "      <th>3</th>\n",
              "      <td>01/12/2017</td>\n",
              "      <td>107</td>\n",
              "      <td>3</td>\n",
              "      <td>-6.2</td>\n",
              "      <td>40</td>\n",
              "      <td>0.9</td>\n",
              "      <td>2000</td>\n",
              "      <td>-17.6</td>\n",
              "      <td>0.0</td>\n",
              "      <td>0.0</td>\n",
              "      <td>0.0</td>\n",
              "      <td>Winter</td>\n",
              "      <td>No Holiday</td>\n",
              "      <td>Yes</td>\n",
              "    </tr>\n",
              "    <tr>\n",
              "      <th>4</th>\n",
              "      <td>01/12/2017</td>\n",
              "      <td>78</td>\n",
              "      <td>4</td>\n",
              "      <td>-6.0</td>\n",
              "      <td>36</td>\n",
              "      <td>2.3</td>\n",
              "      <td>2000</td>\n",
              "      <td>-18.6</td>\n",
              "      <td>0.0</td>\n",
              "      <td>0.0</td>\n",
              "      <td>0.0</td>\n",
              "      <td>Winter</td>\n",
              "      <td>No Holiday</td>\n",
              "      <td>Yes</td>\n",
              "    </tr>\n",
              "    <tr>\n",
              "      <th>...</th>\n",
              "      <td>...</td>\n",
              "      <td>...</td>\n",
              "      <td>...</td>\n",
              "      <td>...</td>\n",
              "      <td>...</td>\n",
              "      <td>...</td>\n",
              "      <td>...</td>\n",
              "      <td>...</td>\n",
              "      <td>...</td>\n",
              "      <td>...</td>\n",
              "      <td>...</td>\n",
              "      <td>...</td>\n",
              "      <td>...</td>\n",
              "      <td>...</td>\n",
              "    </tr>\n",
              "    <tr>\n",
              "      <th>8755</th>\n",
              "      <td>30/11/2018</td>\n",
              "      <td>1003</td>\n",
              "      <td>19</td>\n",
              "      <td>4.2</td>\n",
              "      <td>34</td>\n",
              "      <td>2.6</td>\n",
              "      <td>1894</td>\n",
              "      <td>-10.3</td>\n",
              "      <td>0.0</td>\n",
              "      <td>0.0</td>\n",
              "      <td>0.0</td>\n",
              "      <td>Autumn</td>\n",
              "      <td>No Holiday</td>\n",
              "      <td>Yes</td>\n",
              "    </tr>\n",
              "    <tr>\n",
              "      <th>8756</th>\n",
              "      <td>30/11/2018</td>\n",
              "      <td>764</td>\n",
              "      <td>20</td>\n",
              "      <td>3.4</td>\n",
              "      <td>37</td>\n",
              "      <td>2.3</td>\n",
              "      <td>2000</td>\n",
              "      <td>-9.9</td>\n",
              "      <td>0.0</td>\n",
              "      <td>0.0</td>\n",
              "      <td>0.0</td>\n",
              "      <td>Autumn</td>\n",
              "      <td>No Holiday</td>\n",
              "      <td>Yes</td>\n",
              "    </tr>\n",
              "    <tr>\n",
              "      <th>8757</th>\n",
              "      <td>30/11/2018</td>\n",
              "      <td>694</td>\n",
              "      <td>21</td>\n",
              "      <td>2.6</td>\n",
              "      <td>39</td>\n",
              "      <td>0.3</td>\n",
              "      <td>1968</td>\n",
              "      <td>-9.9</td>\n",
              "      <td>0.0</td>\n",
              "      <td>0.0</td>\n",
              "      <td>0.0</td>\n",
              "      <td>Autumn</td>\n",
              "      <td>No Holiday</td>\n",
              "      <td>Yes</td>\n",
              "    </tr>\n",
              "    <tr>\n",
              "      <th>8758</th>\n",
              "      <td>30/11/2018</td>\n",
              "      <td>712</td>\n",
              "      <td>22</td>\n",
              "      <td>2.1</td>\n",
              "      <td>41</td>\n",
              "      <td>1.0</td>\n",
              "      <td>1859</td>\n",
              "      <td>-9.8</td>\n",
              "      <td>0.0</td>\n",
              "      <td>0.0</td>\n",
              "      <td>0.0</td>\n",
              "      <td>Autumn</td>\n",
              "      <td>No Holiday</td>\n",
              "      <td>Yes</td>\n",
              "    </tr>\n",
              "    <tr>\n",
              "      <th>8759</th>\n",
              "      <td>30/11/2018</td>\n",
              "      <td>584</td>\n",
              "      <td>23</td>\n",
              "      <td>1.9</td>\n",
              "      <td>43</td>\n",
              "      <td>1.3</td>\n",
              "      <td>1909</td>\n",
              "      <td>-9.3</td>\n",
              "      <td>0.0</td>\n",
              "      <td>0.0</td>\n",
              "      <td>0.0</td>\n",
              "      <td>Autumn</td>\n",
              "      <td>No Holiday</td>\n",
              "      <td>Yes</td>\n",
              "    </tr>\n",
              "  </tbody>\n",
              "</table>\n",
              "<p>8760 rows × 14 columns</p>\n",
              "</div>"
            ],
            "text/plain": [
              "            Date  Rented Bike Count  Hour  ...  Seasons     Holiday  Functioning Day\n",
              "0     01/12/2017                254     0  ...   Winter  No Holiday              Yes\n",
              "1     01/12/2017                204     1  ...   Winter  No Holiday              Yes\n",
              "2     01/12/2017                173     2  ...   Winter  No Holiday              Yes\n",
              "3     01/12/2017                107     3  ...   Winter  No Holiday              Yes\n",
              "4     01/12/2017                 78     4  ...   Winter  No Holiday              Yes\n",
              "...          ...                ...   ...  ...      ...         ...              ...\n",
              "8755  30/11/2018               1003    19  ...   Autumn  No Holiday              Yes\n",
              "8756  30/11/2018                764    20  ...   Autumn  No Holiday              Yes\n",
              "8757  30/11/2018                694    21  ...   Autumn  No Holiday              Yes\n",
              "8758  30/11/2018                712    22  ...   Autumn  No Holiday              Yes\n",
              "8759  30/11/2018                584    23  ...   Autumn  No Holiday              Yes\n",
              "\n",
              "[8760 rows x 14 columns]"
            ]
          },
          "metadata": {
            "tags": []
          },
          "execution_count": 6
        }
      ]
    },
    {
      "cell_type": "code",
      "metadata": {
        "colab": {
          "base_uri": "https://localhost:8080/"
        },
        "id": "IOfpG8vG1Npj",
        "outputId": "828b9426-e8ff-418d-a75a-e658ff8808bc"
      },
      "source": [
        "df.isnull().values.any()"
      ],
      "execution_count": null,
      "outputs": [
        {
          "output_type": "execute_result",
          "data": {
            "text/plain": [
              "False"
            ]
          },
          "metadata": {
            "tags": []
          },
          "execution_count": 7
        }
      ]
    },
    {
      "cell_type": "markdown",
      "metadata": {
        "id": "MJKqQYhkWgJt"
      },
      "source": [
        "**One hot encoding for multivalue categorical variable Seasons**"
      ]
    },
    {
      "cell_type": "code",
      "metadata": {
        "colab": {
          "base_uri": "https://localhost:8080/"
        },
        "id": "ItZjsdQO2HGt",
        "outputId": "431b650d-5b96-40e4-f631-c54f56787158"
      },
      "source": [
        "df['Seasons'].unique()"
      ],
      "execution_count": null,
      "outputs": [
        {
          "output_type": "execute_result",
          "data": {
            "text/plain": [
              "array(['Winter', 'Spring', 'Summer', 'Autumn'], dtype=object)"
            ]
          },
          "metadata": {
            "tags": []
          },
          "execution_count": 10
        }
      ]
    },
    {
      "cell_type": "code",
      "metadata": {
        "id": "30hzMltQ3Ro4",
        "colab": {
          "base_uri": "https://localhost:8080/",
          "height": 419
        },
        "outputId": "70ab8acb-a8e5-4ac9-e897-85806c9c680f"
      },
      "source": [
        "dummies = pd.get_dummies(df['Seasons'])\n",
        "dummies"
      ],
      "execution_count": null,
      "outputs": [
        {
          "output_type": "execute_result",
          "data": {
            "text/html": [
              "<div>\n",
              "<style scoped>\n",
              "    .dataframe tbody tr th:only-of-type {\n",
              "        vertical-align: middle;\n",
              "    }\n",
              "\n",
              "    .dataframe tbody tr th {\n",
              "        vertical-align: top;\n",
              "    }\n",
              "\n",
              "    .dataframe thead th {\n",
              "        text-align: right;\n",
              "    }\n",
              "</style>\n",
              "<table border=\"1\" class=\"dataframe\">\n",
              "  <thead>\n",
              "    <tr style=\"text-align: right;\">\n",
              "      <th></th>\n",
              "      <th>Autumn</th>\n",
              "      <th>Spring</th>\n",
              "      <th>Summer</th>\n",
              "      <th>Winter</th>\n",
              "    </tr>\n",
              "  </thead>\n",
              "  <tbody>\n",
              "    <tr>\n",
              "      <th>0</th>\n",
              "      <td>0</td>\n",
              "      <td>0</td>\n",
              "      <td>0</td>\n",
              "      <td>1</td>\n",
              "    </tr>\n",
              "    <tr>\n",
              "      <th>1</th>\n",
              "      <td>0</td>\n",
              "      <td>0</td>\n",
              "      <td>0</td>\n",
              "      <td>1</td>\n",
              "    </tr>\n",
              "    <tr>\n",
              "      <th>2</th>\n",
              "      <td>0</td>\n",
              "      <td>0</td>\n",
              "      <td>0</td>\n",
              "      <td>1</td>\n",
              "    </tr>\n",
              "    <tr>\n",
              "      <th>3</th>\n",
              "      <td>0</td>\n",
              "      <td>0</td>\n",
              "      <td>0</td>\n",
              "      <td>1</td>\n",
              "    </tr>\n",
              "    <tr>\n",
              "      <th>4</th>\n",
              "      <td>0</td>\n",
              "      <td>0</td>\n",
              "      <td>0</td>\n",
              "      <td>1</td>\n",
              "    </tr>\n",
              "    <tr>\n",
              "      <th>...</th>\n",
              "      <td>...</td>\n",
              "      <td>...</td>\n",
              "      <td>...</td>\n",
              "      <td>...</td>\n",
              "    </tr>\n",
              "    <tr>\n",
              "      <th>8755</th>\n",
              "      <td>1</td>\n",
              "      <td>0</td>\n",
              "      <td>0</td>\n",
              "      <td>0</td>\n",
              "    </tr>\n",
              "    <tr>\n",
              "      <th>8756</th>\n",
              "      <td>1</td>\n",
              "      <td>0</td>\n",
              "      <td>0</td>\n",
              "      <td>0</td>\n",
              "    </tr>\n",
              "    <tr>\n",
              "      <th>8757</th>\n",
              "      <td>1</td>\n",
              "      <td>0</td>\n",
              "      <td>0</td>\n",
              "      <td>0</td>\n",
              "    </tr>\n",
              "    <tr>\n",
              "      <th>8758</th>\n",
              "      <td>1</td>\n",
              "      <td>0</td>\n",
              "      <td>0</td>\n",
              "      <td>0</td>\n",
              "    </tr>\n",
              "    <tr>\n",
              "      <th>8759</th>\n",
              "      <td>1</td>\n",
              "      <td>0</td>\n",
              "      <td>0</td>\n",
              "      <td>0</td>\n",
              "    </tr>\n",
              "  </tbody>\n",
              "</table>\n",
              "<p>8760 rows × 4 columns</p>\n",
              "</div>"
            ],
            "text/plain": [
              "      Autumn  Spring  Summer  Winter\n",
              "0          0       0       0       1\n",
              "1          0       0       0       1\n",
              "2          0       0       0       1\n",
              "3          0       0       0       1\n",
              "4          0       0       0       1\n",
              "...      ...     ...     ...     ...\n",
              "8755       1       0       0       0\n",
              "8756       1       0       0       0\n",
              "8757       1       0       0       0\n",
              "8758       1       0       0       0\n",
              "8759       1       0       0       0\n",
              "\n",
              "[8760 rows x 4 columns]"
            ]
          },
          "metadata": {
            "tags": []
          },
          "execution_count": 11
        }
      ]
    },
    {
      "cell_type": "code",
      "metadata": {
        "id": "iMDxopAL4DwI"
      },
      "source": [
        "df = pd.concat([df,dummies], axis = 1)"
      ],
      "execution_count": null,
      "outputs": []
    },
    {
      "cell_type": "code",
      "metadata": {
        "id": "DnnFY_ry4Prt"
      },
      "source": [
        "df.drop(['Seasons'],axis = 1,inplace = True)"
      ],
      "execution_count": null,
      "outputs": []
    },
    {
      "cell_type": "markdown",
      "metadata": {
        "id": "0P4gRxVHWvOc"
      },
      "source": [
        "**Encode binary categoricals variables (Holiday and Functioning Day)**\n"
      ]
    },
    {
      "cell_type": "code",
      "metadata": {
        "colab": {
          "base_uri": "https://localhost:8080/"
        },
        "id": "Hkc8juOZFky9",
        "outputId": "d5499c23-7caf-4862-82ac-bbf4e7e9e1fb"
      },
      "source": [
        "print(df['Holiday'].unique())\n",
        "print(df['Functioning Day'].unique())"
      ],
      "execution_count": null,
      "outputs": [
        {
          "output_type": "stream",
          "text": [
            "['No Holiday' 'Holiday']\n",
            "['Yes' 'No']\n"
          ],
          "name": "stdout"
        }
      ]
    },
    {
      "cell_type": "code",
      "metadata": {
        "id": "csuLJ_XH5rS-"
      },
      "source": [
        "df['Holiday'].replace(('No Holiday','Holiday'),(0,1),inplace = True)\n",
        "df['Functioning Day'].replace(('No','Yes'),(0,1),inplace = True)"
      ],
      "execution_count": null,
      "outputs": []
    },
    {
      "cell_type": "markdown",
      "metadata": {
        "id": "jxRI9WncYp5T"
      },
      "source": [
        "**Dropping Date variable because it is not usable for algorithm and the dataset already has variables seasons,holiday,functioning day which can represent the information of the year**"
      ]
    },
    {
      "cell_type": "code",
      "metadata": {
        "id": "-nY3tnMuMzLN"
      },
      "source": [
        "df.drop(['Date'],axis = 1,inplace = True)"
      ],
      "execution_count": null,
      "outputs": []
    },
    {
      "cell_type": "markdown",
      "metadata": {
        "id": "2iMnAY3uXVeM"
      },
      "source": [
        "**Handling cyclic feature Hours, in this case from 0 to 23 i represent them with unit circle**"
      ]
    },
    {
      "cell_type": "code",
      "metadata": {
        "id": "748pwZjtU-SF"
      },
      "source": [
        "Hour_sin = np.sin(df['Hour']*(2.*np.pi/24))\n",
        "Hour_cos = np.cos(df['Hour']*(2.*np.pi/24))"
      ],
      "execution_count": null,
      "outputs": []
    },
    {
      "cell_type": "code",
      "metadata": {
        "id": "UGP6PN7NYgL8"
      },
      "source": [
        "Hour_sin_df = pd.DataFrame(Hour_sin)\n",
        "Hour_cos_df = pd.DataFrame(Hour_cos)\n",
        "Hour_sin_df.rename(columns={\"Hour\": \"Hour sin\"},inplace = True)\n",
        "Hour_cos_df.rename(columns={\"Hour\": \"Hour cos\"},inplace = True)"
      ],
      "execution_count": null,
      "outputs": []
    },
    {
      "cell_type": "code",
      "metadata": {
        "id": "IMGq5LMKVPJZ"
      },
      "source": [
        "df_Hour_Cyclic = df.copy()\n",
        "df_Hour_Cyclic = pd.concat((df_Hour_Cyclic,Hour_sin_df),axis = 1)\n",
        "df_Hour_Cyclic = pd.concat((df_Hour_Cyclic,Hour_cos_df),axis = 1)\n",
        "df_Hour_Cyclic.drop(['Hour'],axis = 1,inplace = True)"
      ],
      "execution_count": null,
      "outputs": []
    },
    {
      "cell_type": "code",
      "metadata": {
        "colab": {
          "base_uri": "https://localhost:8080/",
          "height": 282
        },
        "id": "eEksCe79pKUb",
        "outputId": "792e821d-d40e-4ba1-f25d-dc15a543b084"
      },
      "source": [
        "plt.scatter(df_Hour_Cyclic['Hour cos'],df_Hour_Cyclic['Hour sin'])"
      ],
      "execution_count": null,
      "outputs": [
        {
          "output_type": "execute_result",
          "data": {
            "text/plain": [
              "<matplotlib.collections.PathCollection at 0x7fdf79f6df90>"
            ]
          },
          "metadata": {
            "tags": []
          },
          "execution_count": 20
        },
        {
          "output_type": "display_data",
          "data": {
            "image/png": "[encoded data removed]",
            "text/plain": [
              "<Figure size 432x288 with 1 Axes>"
            ]
          },
          "metadata": {
            "tags": [],
            "needs_background": "light"
          }
        }
      ]
    },
    {
      "cell_type": "markdown",
      "metadata": {
        "id": "PJJxEdoq-Jqq"
      },
      "source": [
        "**Print statistical values for variables and how we can see there is a big difference between means, so its good idea to apply normalization on data**"
      ]
    },
    {
      "cell_type": "code",
      "metadata": {
        "colab": {
          "base_uri": "https://localhost:8080/",
          "height": 576
        },
        "id": "Ka6BFkQc86SG",
        "outputId": "317f92f6-b413-4072-b124-52c12e729705"
      },
      "source": [
        "df_Hour_Cyclic.describe().transpose()"
      ],
      "execution_count": null,
      "outputs": [
        {
          "output_type": "execute_result",
          "data": {
            "text/html": [
              "<div>\n",
              "<style scoped>\n",
              "    .dataframe tbody tr th:only-of-type {\n",
              "        vertical-align: middle;\n",
              "    }\n",
              "\n",
              "    .dataframe tbody tr th {\n",
              "        vertical-align: top;\n",
              "    }\n",
              "\n",
              "    .dataframe thead th {\n",
              "        text-align: right;\n",
              "    }\n",
              "</style>\n",
              "<table border=\"1\" class=\"dataframe\">\n",
              "  <thead>\n",
              "    <tr style=\"text-align: right;\">\n",
              "      <th></th>\n",
              "      <th>count</th>\n",
              "      <th>mean</th>\n",
              "      <th>std</th>\n",
              "      <th>min</th>\n",
              "      <th>25%</th>\n",
              "      <th>50%</th>\n",
              "      <th>75%</th>\n",
              "      <th>max</th>\n",
              "    </tr>\n",
              "  </thead>\n",
              "  <tbody>\n",
              "    <tr>\n",
              "      <th>Rented Bike Count</th>\n",
              "      <td>8760.0</td>\n",
              "      <td>7.046021e+02</td>\n",
              "      <td>644.997468</td>\n",
              "      <td>0.0</td>\n",
              "      <td>191.000000</td>\n",
              "      <td>5.045000e+02</td>\n",
              "      <td>1065.250000</td>\n",
              "      <td>3556.00</td>\n",
              "    </tr>\n",
              "    <tr>\n",
              "      <th>Temperature(°C)</th>\n",
              "      <td>8760.0</td>\n",
              "      <td>1.288292e+01</td>\n",
              "      <td>11.944825</td>\n",
              "      <td>-17.8</td>\n",
              "      <td>3.500000</td>\n",
              "      <td>1.370000e+01</td>\n",
              "      <td>22.500000</td>\n",
              "      <td>39.40</td>\n",
              "    </tr>\n",
              "    <tr>\n",
              "      <th>Humidity(%)</th>\n",
              "      <td>8760.0</td>\n",
              "      <td>5.822626e+01</td>\n",
              "      <td>20.362413</td>\n",
              "      <td>0.0</td>\n",
              "      <td>42.000000</td>\n",
              "      <td>5.700000e+01</td>\n",
              "      <td>74.000000</td>\n",
              "      <td>98.00</td>\n",
              "    </tr>\n",
              "    <tr>\n",
              "      <th>Wind speed (m/s)</th>\n",
              "      <td>8760.0</td>\n",
              "      <td>1.724909e+00</td>\n",
              "      <td>1.036300</td>\n",
              "      <td>0.0</td>\n",
              "      <td>0.900000</td>\n",
              "      <td>1.500000e+00</td>\n",
              "      <td>2.300000</td>\n",
              "      <td>7.40</td>\n",
              "    </tr>\n",
              "    <tr>\n",
              "      <th>Visibility (10m)</th>\n",
              "      <td>8760.0</td>\n",
              "      <td>1.436826e+03</td>\n",
              "      <td>608.298712</td>\n",
              "      <td>27.0</td>\n",
              "      <td>940.000000</td>\n",
              "      <td>1.698000e+03</td>\n",
              "      <td>2000.000000</td>\n",
              "      <td>2000.00</td>\n",
              "    </tr>\n",
              "    <tr>\n",
              "      <th>Dew point temperature(°C)</th>\n",
              "      <td>8760.0</td>\n",
              "      <td>4.073813e+00</td>\n",
              "      <td>13.060369</td>\n",
              "      <td>-30.6</td>\n",
              "      <td>-4.700000</td>\n",
              "      <td>5.100000e+00</td>\n",
              "      <td>14.800000</td>\n",
              "      <td>27.20</td>\n",
              "    </tr>\n",
              "    <tr>\n",
              "      <th>Solar Radiation (MJ/m2)</th>\n",
              "      <td>8760.0</td>\n",
              "      <td>5.691107e-01</td>\n",
              "      <td>0.868746</td>\n",
              "      <td>0.0</td>\n",
              "      <td>0.000000</td>\n",
              "      <td>1.000000e-02</td>\n",
              "      <td>0.930000</td>\n",
              "      <td>3.52</td>\n",
              "    </tr>\n",
              "    <tr>\n",
              "      <th>Rainfall(mm)</th>\n",
              "      <td>8760.0</td>\n",
              "      <td>1.486872e-01</td>\n",
              "      <td>1.128193</td>\n",
              "      <td>0.0</td>\n",
              "      <td>0.000000</td>\n",
              "      <td>0.000000e+00</td>\n",
              "      <td>0.000000</td>\n",
              "      <td>35.00</td>\n",
              "    </tr>\n",
              "    <tr>\n",
              "      <th>Snowfall (cm)</th>\n",
              "      <td>8760.0</td>\n",
              "      <td>7.506849e-02</td>\n",
              "      <td>0.436746</td>\n",
              "      <td>0.0</td>\n",
              "      <td>0.000000</td>\n",
              "      <td>0.000000e+00</td>\n",
              "      <td>0.000000</td>\n",
              "      <td>8.80</td>\n",
              "    </tr>\n",
              "    <tr>\n",
              "      <th>Holiday</th>\n",
              "      <td>8760.0</td>\n",
              "      <td>4.931507e-02</td>\n",
              "      <td>0.216537</td>\n",
              "      <td>0.0</td>\n",
              "      <td>0.000000</td>\n",
              "      <td>0.000000e+00</td>\n",
              "      <td>0.000000</td>\n",
              "      <td>1.00</td>\n",
              "    </tr>\n",
              "    <tr>\n",
              "      <th>Functioning Day</th>\n",
              "      <td>8760.0</td>\n",
              "      <td>9.663242e-01</td>\n",
              "      <td>0.180404</td>\n",
              "      <td>0.0</td>\n",
              "      <td>1.000000</td>\n",
              "      <td>1.000000e+00</td>\n",
              "      <td>1.000000</td>\n",
              "      <td>1.00</td>\n",
              "    </tr>\n",
              "    <tr>\n",
              "      <th>Autumn</th>\n",
              "      <td>8760.0</td>\n",
              "      <td>2.493151e-01</td>\n",
              "      <td>0.432641</td>\n",
              "      <td>0.0</td>\n",
              "      <td>0.000000</td>\n",
              "      <td>0.000000e+00</td>\n",
              "      <td>0.000000</td>\n",
              "      <td>1.00</td>\n",
              "    </tr>\n",
              "    <tr>\n",
              "      <th>Spring</th>\n",
              "      <td>8760.0</td>\n",
              "      <td>2.520548e-01</td>\n",
              "      <td>0.434217</td>\n",
              "      <td>0.0</td>\n",
              "      <td>0.000000</td>\n",
              "      <td>0.000000e+00</td>\n",
              "      <td>1.000000</td>\n",
              "      <td>1.00</td>\n",
              "    </tr>\n",
              "    <tr>\n",
              "      <th>Summer</th>\n",
              "      <td>8760.0</td>\n",
              "      <td>2.520548e-01</td>\n",
              "      <td>0.434217</td>\n",
              "      <td>0.0</td>\n",
              "      <td>0.000000</td>\n",
              "      <td>0.000000e+00</td>\n",
              "      <td>1.000000</td>\n",
              "      <td>1.00</td>\n",
              "    </tr>\n",
              "    <tr>\n",
              "      <th>Winter</th>\n",
              "      <td>8760.0</td>\n",
              "      <td>2.465753e-01</td>\n",
              "      <td>0.431042</td>\n",
              "      <td>0.0</td>\n",
              "      <td>0.000000</td>\n",
              "      <td>0.000000e+00</td>\n",
              "      <td>0.000000</td>\n",
              "      <td>1.00</td>\n",
              "    </tr>\n",
              "    <tr>\n",
              "      <th>Hour sin</th>\n",
              "      <td>8760.0</td>\n",
              "      <td>-9.505334e-20</td>\n",
              "      <td>0.707147</td>\n",
              "      <td>-1.0</td>\n",
              "      <td>-0.707107</td>\n",
              "      <td>6.123234e-17</td>\n",
              "      <td>0.707107</td>\n",
              "      <td>1.00</td>\n",
              "    </tr>\n",
              "    <tr>\n",
              "      <th>Hour cos</th>\n",
              "      <td>8760.0</td>\n",
              "      <td>-1.110350e-16</td>\n",
              "      <td>0.707147</td>\n",
              "      <td>-1.0</td>\n",
              "      <td>-0.707107</td>\n",
              "      <td>-6.123234e-17</td>\n",
              "      <td>0.707107</td>\n",
              "      <td>1.00</td>\n",
              "    </tr>\n",
              "  </tbody>\n",
              "</table>\n",
              "</div>"
            ],
            "text/plain": [
              "                            count          mean  ...          75%      max\n",
              "Rented Bike Count          8760.0  7.046021e+02  ...  1065.250000  3556.00\n",
              "Temperature(°C)            8760.0  1.288292e+01  ...    22.500000    39.40\n",
              "Humidity(%)                8760.0  5.822626e+01  ...    74.000000    98.00\n",
              "Wind speed (m/s)           8760.0  1.724909e+00  ...     2.300000     7.40\n",
              "Visibility (10m)           8760.0  1.436826e+03  ...  2000.000000  2000.00\n",
              "Dew point temperature(°C)  8760.0  4.073813e+00  ...    14.800000    27.20\n",
              "Solar Radiation (MJ/m2)    8760.0  5.691107e-01  ...     0.930000     3.52\n",
              "Rainfall(mm)               8760.0  1.486872e-01  ...     0.000000    35.00\n",
              "Snowfall (cm)              8760.0  7.506849e-02  ...     0.000000     8.80\n",
              "Holiday                    8760.0  4.931507e-02  ...     0.000000     1.00\n",
              "Functioning Day            8760.0  9.663242e-01  ...     1.000000     1.00\n",
              "Autumn                     8760.0  2.493151e-01  ...     0.000000     1.00\n",
              "Spring                     8760.0  2.520548e-01  ...     1.000000     1.00\n",
              "Summer                     8760.0  2.520548e-01  ...     1.000000     1.00\n",
              "Winter                     8760.0  2.465753e-01  ...     0.000000     1.00\n",
              "Hour sin                   8760.0 -9.505334e-20  ...     0.707107     1.00\n",
              "Hour cos                   8760.0 -1.110350e-16  ...     0.707107     1.00\n",
              "\n",
              "[17 rows x 8 columns]"
            ]
          },
          "metadata": {
            "tags": []
          },
          "execution_count": 21
        }
      ]
    },
    {
      "cell_type": "markdown",
      "metadata": {
        "id": "EPpjq5_PZkTq"
      },
      "source": [
        "**Normalization of data**"
      ]
    },
    {
      "cell_type": "code",
      "metadata": {
        "id": "LNKRCATyXqYs"
      },
      "source": [
        "data_for_scale = df_Hour_Cyclic[df_Hour_Cyclic.columns.difference(['Holiday','Functioning Day','Autumn','Spring','Summer','Winter'])]\n",
        "scaler = preprocessing.StandardScaler().fit(data_for_scale)\n",
        "scaled_data = scaler.transform(data_for_scale)\n",
        "scaled_data = pd.DataFrame(scaled_data,index = data_for_scale.index, columns = data_for_scale.columns)\n",
        "df_Hour_Cyclic.drop(df_Hour_Cyclic.columns.difference(['Holiday','Functioning Day','Autumn','Spring','Summer','Winter']),axis = 1,inplace=True)\n",
        "df_Hour_Cyclic = pd.concat([df_Hour_Cyclic,scaled_data],axis = 1)"
      ],
      "execution_count": null,
      "outputs": []
    },
    {
      "cell_type": "markdown",
      "metadata": {
        "id": "AXMLw6xHTXjO"
      },
      "source": [
        "**We can notice outliers for Rainfall(mm) and snowfall(cm) because their max values are much bigger than their mean**"
      ]
    },
    {
      "cell_type": "code",
      "metadata": {
        "id": "0kzQrNP0W-c4",
        "colab": {
          "base_uri": "https://localhost:8080/",
          "height": 576
        },
        "outputId": "23966018-d060-4a8d-ba15-07bb45e5500c"
      },
      "source": [
        "df_Hour_Cyclic.describe().transpose()"
      ],
      "execution_count": null,
      "outputs": [
        {
          "output_type": "execute_result",
          "data": {
            "text/html": [
              "<div>\n",
              "<style scoped>\n",
              "    .dataframe tbody tr th:only-of-type {\n",
              "        vertical-align: middle;\n",
              "    }\n",
              "\n",
              "    .dataframe tbody tr th {\n",
              "        vertical-align: top;\n",
              "    }\n",
              "\n",
              "    .dataframe thead th {\n",
              "        text-align: right;\n",
              "    }\n",
              "</style>\n",
              "<table border=\"1\" class=\"dataframe\">\n",
              "  <thead>\n",
              "    <tr style=\"text-align: right;\">\n",
              "      <th></th>\n",
              "      <th>count</th>\n",
              "      <th>mean</th>\n",
              "      <th>std</th>\n",
              "      <th>min</th>\n",
              "      <th>25%</th>\n",
              "      <th>50%</th>\n",
              "      <th>75%</th>\n",
              "      <th>max</th>\n",
              "    </tr>\n",
              "  </thead>\n",
              "  <tbody>\n",
              "    <tr>\n",
              "      <th>Holiday</th>\n",
              "      <td>8760.0</td>\n",
              "      <td>4.931507e-02</td>\n",
              "      <td>0.216537</td>\n",
              "      <td>0.000000</td>\n",
              "      <td>0.000000</td>\n",
              "      <td>0.000000e+00</td>\n",
              "      <td>0.000000</td>\n",
              "      <td>1.000000</td>\n",
              "    </tr>\n",
              "    <tr>\n",
              "      <th>Functioning Day</th>\n",
              "      <td>8760.0</td>\n",
              "      <td>9.663242e-01</td>\n",
              "      <td>0.180404</td>\n",
              "      <td>0.000000</td>\n",
              "      <td>1.000000</td>\n",
              "      <td>1.000000e+00</td>\n",
              "      <td>1.000000</td>\n",
              "      <td>1.000000</td>\n",
              "    </tr>\n",
              "    <tr>\n",
              "      <th>Autumn</th>\n",
              "      <td>8760.0</td>\n",
              "      <td>2.493151e-01</td>\n",
              "      <td>0.432641</td>\n",
              "      <td>0.000000</td>\n",
              "      <td>0.000000</td>\n",
              "      <td>0.000000e+00</td>\n",
              "      <td>0.000000</td>\n",
              "      <td>1.000000</td>\n",
              "    </tr>\n",
              "    <tr>\n",
              "      <th>Spring</th>\n",
              "      <td>8760.0</td>\n",
              "      <td>2.520548e-01</td>\n",
              "      <td>0.434217</td>\n",
              "      <td>0.000000</td>\n",
              "      <td>0.000000</td>\n",
              "      <td>0.000000e+00</td>\n",
              "      <td>1.000000</td>\n",
              "      <td>1.000000</td>\n",
              "    </tr>\n",
              "    <tr>\n",
              "      <th>Summer</th>\n",
              "      <td>8760.0</td>\n",
              "      <td>2.520548e-01</td>\n",
              "      <td>0.434217</td>\n",
              "      <td>0.000000</td>\n",
              "      <td>0.000000</td>\n",
              "      <td>0.000000e+00</td>\n",
              "      <td>1.000000</td>\n",
              "      <td>1.000000</td>\n",
              "    </tr>\n",
              "    <tr>\n",
              "      <th>Winter</th>\n",
              "      <td>8760.0</td>\n",
              "      <td>2.465753e-01</td>\n",
              "      <td>0.431042</td>\n",
              "      <td>0.000000</td>\n",
              "      <td>0.000000</td>\n",
              "      <td>0.000000e+00</td>\n",
              "      <td>0.000000</td>\n",
              "      <td>1.000000</td>\n",
              "    </tr>\n",
              "    <tr>\n",
              "      <th>Dew point temperature(°C)</th>\n",
              "      <td>8760.0</td>\n",
              "      <td>1.453505e-15</td>\n",
              "      <td>1.000057</td>\n",
              "      <td>-2.655039</td>\n",
              "      <td>-0.671827</td>\n",
              "      <td>7.857709e-02</td>\n",
              "      <td>0.821324</td>\n",
              "      <td>1.770816</td>\n",
              "    </tr>\n",
              "    <tr>\n",
              "      <th>Hour cos</th>\n",
              "      <td>8760.0</td>\n",
              "      <td>-2.534756e-20</td>\n",
              "      <td>1.000057</td>\n",
              "      <td>-1.414214</td>\n",
              "      <td>-1.000000</td>\n",
              "      <td>7.041364e-17</td>\n",
              "      <td>1.000000</td>\n",
              "      <td>1.414214</td>\n",
              "    </tr>\n",
              "    <tr>\n",
              "      <th>Hour sin</th>\n",
              "      <td>8760.0</td>\n",
              "      <td>-7.402121e-17</td>\n",
              "      <td>1.000057</td>\n",
              "      <td>-1.414214</td>\n",
              "      <td>-1.000000</td>\n",
              "      <td>7.985640e-17</td>\n",
              "      <td>1.000000</td>\n",
              "      <td>1.414214</td>\n",
              "    </tr>\n",
              "    <tr>\n",
              "      <th>Humidity(%)</th>\n",
              "      <td>8760.0</td>\n",
              "      <td>1.837825e-16</td>\n",
              "      <td>1.000057</td>\n",
              "      <td>-2.859660</td>\n",
              "      <td>-0.796918</td>\n",
              "      <td>-6.022497e-02</td>\n",
              "      <td>0.774694</td>\n",
              "      <td>1.953404</td>\n",
              "    </tr>\n",
              "    <tr>\n",
              "      <th>Rainfall(mm)</th>\n",
              "      <td>8760.0</td>\n",
              "      <td>1.918810e-15</td>\n",
              "      <td>1.000057</td>\n",
              "      <td>-0.131800</td>\n",
              "      <td>-0.131800</td>\n",
              "      <td>-1.317999e-01</td>\n",
              "      <td>-0.131800</td>\n",
              "      <td>30.893033</td>\n",
              "    </tr>\n",
              "    <tr>\n",
              "      <th>Rented Bike Count</th>\n",
              "      <td>8760.0</td>\n",
              "      <td>3.203931e-17</td>\n",
              "      <td>1.000057</td>\n",
              "      <td>-1.092473</td>\n",
              "      <td>-0.796331</td>\n",
              "      <td>-3.102547e-01</td>\n",
              "      <td>0.559178</td>\n",
              "      <td>4.421042</td>\n",
              "    </tr>\n",
              "    <tr>\n",
              "      <th>Snowfall (cm)</th>\n",
              "      <td>8760.0</td>\n",
              "      <td>-1.404875e-14</td>\n",
              "      <td>1.000057</td>\n",
              "      <td>-0.171891</td>\n",
              "      <td>-0.171891</td>\n",
              "      <td>-1.718911e-01</td>\n",
              "      <td>-0.171891</td>\n",
              "      <td>19.978262</td>\n",
              "    </tr>\n",
              "    <tr>\n",
              "      <th>Solar Radiation (MJ/m2)</th>\n",
              "      <td>8760.0</td>\n",
              "      <td>-4.465327e-15</td>\n",
              "      <td>1.000057</td>\n",
              "      <td>-0.655132</td>\n",
              "      <td>-0.655132</td>\n",
              "      <td>-6.436202e-01</td>\n",
              "      <td>0.415438</td>\n",
              "      <td>3.396916</td>\n",
              "    </tr>\n",
              "    <tr>\n",
              "      <th>Temperature(°C)</th>\n",
              "      <td>8760.0</td>\n",
              "      <td>-7.169557e-16</td>\n",
              "      <td>1.000057</td>\n",
              "      <td>-2.568868</td>\n",
              "      <td>-0.785567</td>\n",
              "      <td>6.840822e-02</td>\n",
              "      <td>0.805171</td>\n",
              "      <td>2.220090</td>\n",
              "    </tr>\n",
              "    <tr>\n",
              "      <th>Visibility (10m)</th>\n",
              "      <td>8760.0</td>\n",
              "      <td>2.045599e-15</td>\n",
              "      <td>1.000057</td>\n",
              "      <td>-2.317786</td>\n",
              "      <td>-0.816793</td>\n",
              "      <td>4.293764e-01</td>\n",
              "      <td>0.925871</td>\n",
              "      <td>0.925871</td>\n",
              "    </tr>\n",
              "    <tr>\n",
              "      <th>Wind speed (m/s)</th>\n",
              "      <td>8760.0</td>\n",
              "      <td>-1.358312e-16</td>\n",
              "      <td>1.000057</td>\n",
              "      <td>-1.664583</td>\n",
              "      <td>-0.796059</td>\n",
              "      <td>-2.170429e-01</td>\n",
              "      <td>0.554978</td>\n",
              "      <td>5.476614</td>\n",
              "    </tr>\n",
              "  </tbody>\n",
              "</table>\n",
              "</div>"
            ],
            "text/plain": [
              "                            count          mean  ...       75%        max\n",
              "Holiday                    8760.0  4.931507e-02  ...  0.000000   1.000000\n",
              "Functioning Day            8760.0  9.663242e-01  ...  1.000000   1.000000\n",
              "Autumn                     8760.0  2.493151e-01  ...  0.000000   1.000000\n",
              "Spring                     8760.0  2.520548e-01  ...  1.000000   1.000000\n",
              "Summer                     8760.0  2.520548e-01  ...  1.000000   1.000000\n",
              "Winter                     8760.0  2.465753e-01  ...  0.000000   1.000000\n",
              "Dew point temperature(°C)  8760.0  1.453505e-15  ...  0.821324   1.770816\n",
              "Hour cos                   8760.0 -2.534756e-20  ...  1.000000   1.414214\n",
              "Hour sin                   8760.0 -7.402121e-17  ...  1.000000   1.414214\n",
              "Humidity(%)                8760.0  1.837825e-16  ...  0.774694   1.953404\n",
              "Rainfall(mm)               8760.0  1.918810e-15  ... -0.131800  30.893033\n",
              "Rented Bike Count          8760.0  3.203931e-17  ...  0.559178   4.421042\n",
              "Snowfall (cm)              8760.0 -1.404875e-14  ... -0.171891  19.978262\n",
              "Solar Radiation (MJ/m2)    8760.0 -4.465327e-15  ...  0.415438   3.396916\n",
              "Temperature(°C)            8760.0 -7.169557e-16  ...  0.805171   2.220090\n",
              "Visibility (10m)           8760.0  2.045599e-15  ...  0.925871   0.925871\n",
              "Wind speed (m/s)           8760.0 -1.358312e-16  ...  0.554978   5.476614\n",
              "\n",
              "[17 rows x 8 columns]"
            ]
          },
          "metadata": {
            "tags": []
          },
          "execution_count": 23
        }
      ]
    },
    {
      "cell_type": "code",
      "metadata": {
        "colab": {
          "base_uri": "https://localhost:8080/",
          "height": 486
        },
        "id": "fr5MkHdq4YTB",
        "outputId": "897ddc20-45fb-4729-94ac-b22d8bc1bc4d"
      },
      "source": [
        "plt.hist(df['Rainfall(mm)'],bins = 30)"
      ],
      "execution_count": null,
      "outputs": [
        {
          "output_type": "execute_result",
          "data": {
            "text/plain": [
              "(array([8.514e+03, 9.500e+01, 3.900e+01, 4.000e+01, 1.500e+01, 1.300e+01,\n",
              "        8.000e+00, 7.000e+00, 7.000e+00, 2.000e+00, 2.000e+00, 4.000e+00,\n",
              "        1.000e+00, 2.000e+00, 1.000e+00, 4.000e+00, 1.000e+00, 0.000e+00,\n",
              "        2.000e+00, 0.000e+00, 1.000e+00, 0.000e+00, 0.000e+00, 0.000e+00,\n",
              "        0.000e+00, 1.000e+00, 0.000e+00, 0.000e+00, 0.000e+00, 1.000e+00]),\n",
              " array([ 0.        ,  1.16666667,  2.33333333,  3.5       ,  4.66666667,\n",
              "         5.83333333,  7.        ,  8.16666667,  9.33333333, 10.5       ,\n",
              "        11.66666667, 12.83333333, 14.        , 15.16666667, 16.33333333,\n",
              "        17.5       , 18.66666667, 19.83333333, 21.        , 22.16666667,\n",
              "        23.33333333, 24.5       , 25.66666667, 26.83333333, 28.        ,\n",
              "        29.16666667, 30.33333333, 31.5       , 32.66666667, 33.83333333,\n",
              "        35.        ]),\n",
              " <a list of 30 Patch objects>)"
            ]
          },
          "metadata": {
            "tags": []
          },
          "execution_count": 24
        },
        {
          "output_type": "display_data",
          "data": {
            "image/png": "[encoded data removed]",
            "text/plain": [
              "<Figure size 432x288 with 1 Axes>"
            ]
          },
          "metadata": {
            "tags": [],
            "needs_background": "light"
          }
        }
      ]
    },
    {
      "cell_type": "code",
      "metadata": {
        "colab": {
          "base_uri": "https://localhost:8080/",
          "height": 486
        },
        "id": "hU7Nv28W47yo",
        "outputId": "e3d1857b-816d-4fc9-dd43-6f286ce3449c"
      },
      "source": [
        "plt.hist(df['Snowfall (cm)'],bins = 30)"
      ],
      "execution_count": null,
      "outputs": [
        {
          "output_type": "execute_result",
          "data": {
            "text/plain": [
              "(array([8.334e+03, 9.700e+01, 6.800e+01, 7.600e+01, 1.400e+01, 2.300e+01,\n",
              "        3.000e+01, 2.400e+01, 2.500e+01, 1.000e+01, 1.000e+01, 1.900e+01,\n",
              "        7.000e+00, 1.000e+01, 3.000e+00, 0.000e+00, 2.000e+00, 3.000e+00,\n",
              "        0.000e+00, 0.000e+00, 1.000e+00, 0.000e+00, 0.000e+00, 1.000e+00,\n",
              "        1.000e+00, 0.000e+00, 0.000e+00, 0.000e+00, 0.000e+00, 2.000e+00]),\n",
              " array([0.        , 0.29333333, 0.58666667, 0.88      , 1.17333333,\n",
              "        1.46666667, 1.76      , 2.05333333, 2.34666667, 2.64      ,\n",
              "        2.93333333, 3.22666667, 3.52      , 3.81333333, 4.10666667,\n",
              "        4.4       , 4.69333333, 4.98666667, 5.28      , 5.57333333,\n",
              "        5.86666667, 6.16      , 6.45333333, 6.74666667, 7.04      ,\n",
              "        7.33333333, 7.62666667, 7.92      , 8.21333333, 8.50666667,\n",
              "        8.8       ]),\n",
              " <a list of 30 Patch objects>)"
            ]
          },
          "metadata": {
            "tags": []
          },
          "execution_count": 25
        },
        {
          "output_type": "display_data",
          "data": {
            "image/png": "[encoded data removed]",
            "text/plain": [
              "<Figure size 432x288 with 1 Axes>"
            ]
          },
          "metadata": {
            "tags": [],
            "needs_background": "light"
          }
        }
      ]
    },
    {
      "cell_type": "markdown",
      "metadata": {
        "id": "kHkLB9LXZy1y"
      },
      "source": [
        "**Select features for algorithm and split data in train and test set**\n",
        "\n",
        "\n",
        "*and dropping records with Rainfall(mm) > 2 because of the outliers*"
      ]
    },
    {
      "cell_type": "code",
      "metadata": {
        "id": "SHqYYdVbAiY4",
        "colab": {
          "base_uri": "https://localhost:8080/"
        },
        "outputId": "17dbaaf1-1191-440e-dc23-9f143dbcb30a"
      },
      "source": [
        "df_temp = df_Hour_Cyclic[df_Hour_Cyclic.columns.difference(['Wind speed (m/s)','Snowfall (cm)'])]\n",
        "#df_temp = df_Hour_Cyclic.copy()\n",
        "df_temp = df_temp[df_temp['Rainfall(mm)'] < 2]\n",
        "df_temp.info()\n",
        "train_dataset = df_temp.sample(frac=0.8, random_state=0)\n",
        "test_dataset = df_temp.drop(train_dataset.index)\n",
        "\n",
        "train_features = train_dataset.copy()\n",
        "test_features = test_dataset.copy()\n",
        "\n",
        "train_labels = train_features.pop('Rented Bike Count')\n",
        "test_labels = test_features.pop('Rented Bike Count')"
      ],
      "execution_count": null,
      "outputs": [
        {
          "output_type": "stream",
          "text": [
            "<class 'pandas.core.frame.DataFrame'>\n",
            "Int64Index: 8610 entries, 0 to 8759\n",
            "Data columns (total 15 columns):\n",
            " #   Column                     Non-Null Count  Dtype  \n",
            "---  ------                     --------------  -----  \n",
            " 0   Autumn                     8610 non-null   uint8  \n",
            " 1   Dew point temperature(°C)  8610 non-null   float64\n",
            " 2   Functioning Day            8610 non-null   int64  \n",
            " 3   Holiday                    8610 non-null   int64  \n",
            " 4   Hour cos                   8610 non-null   float64\n",
            " 5   Hour sin                   8610 non-null   float64\n",
            " 6   Humidity(%)                8610 non-null   float64\n",
            " 7   Rainfall(mm)               8610 non-null   float64\n",
            " 8   Rented Bike Count          8610 non-null   float64\n",
            " 9   Solar Radiation (MJ/m2)    8610 non-null   float64\n",
            " 10  Spring                     8610 non-null   uint8  \n",
            " 11  Summer                     8610 non-null   uint8  \n",
            " 12  Temperature(°C)            8610 non-null   float64\n",
            " 13  Visibility (10m)           8610 non-null   float64\n",
            " 14  Winter                     8610 non-null   uint8  \n",
            "dtypes: float64(9), int64(2), uint8(4)\n",
            "memory usage: 840.8 KB\n"
          ],
          "name": "stdout"
        }
      ]
    },
    {
      "cell_type": "code",
      "metadata": {
        "colab": {
          "base_uri": "https://localhost:8080/",
          "height": 514
        },
        "id": "DqBptfJ1Dnqt",
        "outputId": "f943254d-b465-4f46-96a4-d6510254ecd1"
      },
      "source": [
        "df_temp.describe().transpose()"
      ],
      "execution_count": null,
      "outputs": [
        {
          "output_type": "execute_result",
          "data": {
            "text/html": [
              "<div>\n",
              "<style scoped>\n",
              "    .dataframe tbody tr th:only-of-type {\n",
              "        vertical-align: middle;\n",
              "    }\n",
              "\n",
              "    .dataframe tbody tr th {\n",
              "        vertical-align: top;\n",
              "    }\n",
              "\n",
              "    .dataframe thead th {\n",
              "        text-align: right;\n",
              "    }\n",
              "</style>\n",
              "<table border=\"1\" class=\"dataframe\">\n",
              "  <thead>\n",
              "    <tr style=\"text-align: right;\">\n",
              "      <th></th>\n",
              "      <th>count</th>\n",
              "      <th>mean</th>\n",
              "      <th>std</th>\n",
              "      <th>min</th>\n",
              "      <th>25%</th>\n",
              "      <th>50%</th>\n",
              "      <th>75%</th>\n",
              "      <th>max</th>\n",
              "    </tr>\n",
              "  </thead>\n",
              "  <tbody>\n",
              "    <tr>\n",
              "      <th>Autumn</th>\n",
              "      <td>8610.0</td>\n",
              "      <td>0.250058</td>\n",
              "      <td>0.433071</td>\n",
              "      <td>0.000000</td>\n",
              "      <td>0.000000</td>\n",
              "      <td>0.000000e+00</td>\n",
              "      <td>0.750000</td>\n",
              "      <td>1.000000</td>\n",
              "    </tr>\n",
              "    <tr>\n",
              "      <th>Dew point temperature(°C)</th>\n",
              "      <td>8610.0</td>\n",
              "      <td>-0.016348</td>\n",
              "      <td>0.998890</td>\n",
              "      <td>-2.655039</td>\n",
              "      <td>-0.687142</td>\n",
              "      <td>5.560552e-02</td>\n",
              "      <td>0.806010</td>\n",
              "      <td>1.770816</td>\n",
              "    </tr>\n",
              "    <tr>\n",
              "      <th>Functioning Day</th>\n",
              "      <td>8610.0</td>\n",
              "      <td>0.966202</td>\n",
              "      <td>0.180719</td>\n",
              "      <td>0.000000</td>\n",
              "      <td>1.000000</td>\n",
              "      <td>1.000000e+00</td>\n",
              "      <td>1.000000</td>\n",
              "      <td>1.000000</td>\n",
              "    </tr>\n",
              "    <tr>\n",
              "      <th>Holiday</th>\n",
              "      <td>8610.0</td>\n",
              "      <td>0.049710</td>\n",
              "      <td>0.217357</td>\n",
              "      <td>0.000000</td>\n",
              "      <td>0.000000</td>\n",
              "      <td>0.000000e+00</td>\n",
              "      <td>0.000000</td>\n",
              "      <td>1.000000</td>\n",
              "    </tr>\n",
              "    <tr>\n",
              "      <th>Hour cos</th>\n",
              "      <td>8610.0</td>\n",
              "      <td>0.002312</td>\n",
              "      <td>0.999703</td>\n",
              "      <td>-1.414214</td>\n",
              "      <td>-1.000000</td>\n",
              "      <td>2.436049e-16</td>\n",
              "      <td>1.000000</td>\n",
              "      <td>1.414214</td>\n",
              "    </tr>\n",
              "    <tr>\n",
              "      <th>Hour sin</th>\n",
              "      <td>8610.0</td>\n",
              "      <td>-0.000997</td>\n",
              "      <td>1.000410</td>\n",
              "      <td>-1.414214</td>\n",
              "      <td>-1.000000</td>\n",
              "      <td>-6.739210e-18</td>\n",
              "      <td>1.000000</td>\n",
              "      <td>1.414214</td>\n",
              "    </tr>\n",
              "    <tr>\n",
              "      <th>Humidity(%)</th>\n",
              "      <td>8610.0</td>\n",
              "      <td>-0.031773</td>\n",
              "      <td>0.978883</td>\n",
              "      <td>-2.859660</td>\n",
              "      <td>-0.796918</td>\n",
              "      <td>-6.022497e-02</td>\n",
              "      <td>0.725581</td>\n",
              "      <td>1.953404</td>\n",
              "    </tr>\n",
              "    <tr>\n",
              "      <th>Rainfall(mm)</th>\n",
              "      <td>8610.0</td>\n",
              "      <td>-0.099833</td>\n",
              "      <td>0.184032</td>\n",
              "      <td>-0.131800</td>\n",
              "      <td>-0.131800</td>\n",
              "      <td>-1.317999e-01</td>\n",
              "      <td>-0.131800</td>\n",
              "      <td>1.995617</td>\n",
              "    </tr>\n",
              "    <tr>\n",
              "      <th>Rented Bike Count</th>\n",
              "      <td>8610.0</td>\n",
              "      <td>0.016692</td>\n",
              "      <td>0.999985</td>\n",
              "      <td>-1.092473</td>\n",
              "      <td>-0.779276</td>\n",
              "      <td>-2.831212e-01</td>\n",
              "      <td>0.571194</td>\n",
              "      <td>4.421042</td>\n",
              "    </tr>\n",
              "    <tr>\n",
              "      <th>Solar Radiation (MJ/m2)</th>\n",
              "      <td>8610.0</td>\n",
              "      <td>0.009604</td>\n",
              "      <td>1.005844</td>\n",
              "      <td>-0.655132</td>\n",
              "      <td>-0.655132</td>\n",
              "      <td>-6.436202e-01</td>\n",
              "      <td>0.438461</td>\n",
              "      <td>3.396916</td>\n",
              "    </tr>\n",
              "    <tr>\n",
              "      <th>Spring</th>\n",
              "      <td>8610.0</td>\n",
              "      <td>0.250871</td>\n",
              "      <td>0.433540</td>\n",
              "      <td>0.000000</td>\n",
              "      <td>0.000000</td>\n",
              "      <td>0.000000e+00</td>\n",
              "      <td>1.000000</td>\n",
              "      <td>1.000000</td>\n",
              "    </tr>\n",
              "    <tr>\n",
              "      <th>Summer</th>\n",
              "      <td>8610.0</td>\n",
              "      <td>0.249361</td>\n",
              "      <td>0.432668</td>\n",
              "      <td>0.000000</td>\n",
              "      <td>0.000000</td>\n",
              "      <td>0.000000e+00</td>\n",
              "      <td>0.000000</td>\n",
              "      <td>1.000000</td>\n",
              "    </tr>\n",
              "    <tr>\n",
              "      <th>Temperature(°C)</th>\n",
              "      <td>8610.0</td>\n",
              "      <td>-0.006200</td>\n",
              "      <td>1.005209</td>\n",
              "      <td>-2.568868</td>\n",
              "      <td>-0.802311</td>\n",
              "      <td>5.166361e-02</td>\n",
              "      <td>0.813543</td>\n",
              "      <td>2.220090</td>\n",
              "    </tr>\n",
              "    <tr>\n",
              "      <th>Visibility (10m)</th>\n",
              "      <td>8610.0</td>\n",
              "      <td>0.024816</td>\n",
              "      <td>0.985971</td>\n",
              "      <td>-2.317786</td>\n",
              "      <td>-0.768705</td>\n",
              "      <td>4.622569e-01</td>\n",
              "      <td>0.925871</td>\n",
              "      <td>0.925871</td>\n",
              "    </tr>\n",
              "    <tr>\n",
              "      <th>Winter</th>\n",
              "      <td>8610.0</td>\n",
              "      <td>0.249710</td>\n",
              "      <td>0.432870</td>\n",
              "      <td>0.000000</td>\n",
              "      <td>0.000000</td>\n",
              "      <td>0.000000e+00</td>\n",
              "      <td>0.000000</td>\n",
              "      <td>1.000000</td>\n",
              "    </tr>\n",
              "  </tbody>\n",
              "</table>\n",
              "</div>"
            ],
            "text/plain": [
              "                            count      mean  ...       75%       max\n",
              "Autumn                     8610.0  0.250058  ...  0.750000  1.000000\n",
              "Dew point temperature(°C)  8610.0 -0.016348  ...  0.806010  1.770816\n",
              "Functioning Day            8610.0  0.966202  ...  1.000000  1.000000\n",
              "Holiday                    8610.0  0.049710  ...  0.000000  1.000000\n",
              "Hour cos                   8610.0  0.002312  ...  1.000000  1.414214\n",
              "Hour sin                   8610.0 -0.000997  ...  1.000000  1.414214\n",
              "Humidity(%)                8610.0 -0.031773  ...  0.725581  1.953404\n",
              "Rainfall(mm)               8610.0 -0.099833  ... -0.131800  1.995617\n",
              "Rented Bike Count          8610.0  0.016692  ...  0.571194  4.421042\n",
              "Solar Radiation (MJ/m2)    8610.0  0.009604  ...  0.438461  3.396916\n",
              "Spring                     8610.0  0.250871  ...  1.000000  1.000000\n",
              "Summer                     8610.0  0.249361  ...  0.000000  1.000000\n",
              "Temperature(°C)            8610.0 -0.006200  ...  0.813543  2.220090\n",
              "Visibility (10m)           8610.0  0.024816  ...  0.925871  0.925871\n",
              "Winter                     8610.0  0.249710  ...  0.000000  1.000000\n",
              "\n",
              "[15 rows x 8 columns]"
            ]
          },
          "metadata": {
            "tags": []
          },
          "execution_count": 27
        }
      ]
    },
    {
      "cell_type": "markdown",
      "metadata": {
        "id": "5GAKd1kKZf2n"
      },
      "source": [
        "**Print Correlation Table for feature selection**"
      ]
    },
    {
      "cell_type": "code",
      "metadata": {
        "id": "WMNKq2i-djW6",
        "colab": {
          "base_uri": "https://localhost:8080/",
          "height": 871
        },
        "outputId": "21fda5ba-736d-48fa-ff66-3cbb60fca936"
      },
      "source": [
        "df.corr(method = 'pearson')"
      ],
      "execution_count": null,
      "outputs": [
        {
          "output_type": "execute_result",
          "data": {
            "text/html": [
              "<div>\n",
              "<style scoped>\n",
              "    .dataframe tbody tr th:only-of-type {\n",
              "        vertical-align: middle;\n",
              "    }\n",
              "\n",
              "    .dataframe tbody tr th {\n",
              "        vertical-align: top;\n",
              "    }\n",
              "\n",
              "    .dataframe thead th {\n",
              "        text-align: right;\n",
              "    }\n",
              "</style>\n",
              "<table border=\"1\" class=\"dataframe\">\n",
              "  <thead>\n",
              "    <tr style=\"text-align: right;\">\n",
              "      <th></th>\n",
              "      <th>Rented Bike Count</th>\n",
              "      <th>Hour</th>\n",
              "      <th>Temperature(°C)</th>\n",
              "      <th>Humidity(%)</th>\n",
              "      <th>Wind speed (m/s)</th>\n",
              "      <th>Visibility (10m)</th>\n",
              "      <th>Dew point temperature(°C)</th>\n",
              "      <th>Solar Radiation (MJ/m2)</th>\n",
              "      <th>Rainfall(mm)</th>\n",
              "      <th>Snowfall (cm)</th>\n",
              "      <th>Holiday</th>\n",
              "      <th>Functioning Day</th>\n",
              "      <th>Autumn</th>\n",
              "      <th>Spring</th>\n",
              "      <th>Summer</th>\n",
              "      <th>Winter</th>\n",
              "    </tr>\n",
              "  </thead>\n",
              "  <tbody>\n",
              "    <tr>\n",
              "      <th>Rented Bike Count</th>\n",
              "      <td>1.000000</td>\n",
              "      <td>4.102573e-01</td>\n",
              "      <td>0.538558</td>\n",
              "      <td>-0.199780</td>\n",
              "      <td>0.121108</td>\n",
              "      <td>0.199280</td>\n",
              "      <td>0.379788</td>\n",
              "      <td>0.261837</td>\n",
              "      <td>-0.123074</td>\n",
              "      <td>-0.141804</td>\n",
              "      <td>-7.233757e-02</td>\n",
              "      <td>0.203943</td>\n",
              "      <td>1.027530e-01</td>\n",
              "      <td>2.288822e-02</td>\n",
              "      <td>2.965494e-01</td>\n",
              "      <td>-4.249251e-01</td>\n",
              "    </tr>\n",
              "    <tr>\n",
              "      <th>Hour</th>\n",
              "      <td>0.410257</td>\n",
              "      <td>1.000000e+00</td>\n",
              "      <td>0.124114</td>\n",
              "      <td>-0.241644</td>\n",
              "      <td>0.285197</td>\n",
              "      <td>0.098753</td>\n",
              "      <td>0.003054</td>\n",
              "      <td>0.145131</td>\n",
              "      <td>0.008715</td>\n",
              "      <td>-0.021516</td>\n",
              "      <td>1.691160e-20</td>\n",
              "      <td>0.005439</td>\n",
              "      <td>2.708568e-19</td>\n",
              "      <td>1.686710e-19</td>\n",
              "      <td>1.686710e-19</td>\n",
              "      <td>-1.019481e-19</td>\n",
              "    </tr>\n",
              "    <tr>\n",
              "      <th>Temperature(°C)</th>\n",
              "      <td>0.538558</td>\n",
              "      <td>1.241145e-01</td>\n",
              "      <td>1.000000</td>\n",
              "      <td>0.159371</td>\n",
              "      <td>-0.036252</td>\n",
              "      <td>0.034794</td>\n",
              "      <td>0.912798</td>\n",
              "      <td>0.353505</td>\n",
              "      <td>0.050282</td>\n",
              "      <td>-0.218405</td>\n",
              "      <td>-5.593084e-02</td>\n",
              "      <td>-0.050170</td>\n",
              "      <td>5.972825e-02</td>\n",
              "      <td>7.959684e-03</td>\n",
              "      <td>6.658462e-01</td>\n",
              "      <td>-7.387196e-01</td>\n",
              "    </tr>\n",
              "    <tr>\n",
              "      <th>Humidity(%)</th>\n",
              "      <td>-0.199780</td>\n",
              "      <td>-2.416438e-01</td>\n",
              "      <td>0.159371</td>\n",
              "      <td>1.000000</td>\n",
              "      <td>-0.336683</td>\n",
              "      <td>-0.543090</td>\n",
              "      <td>0.536894</td>\n",
              "      <td>-0.461919</td>\n",
              "      <td>0.236397</td>\n",
              "      <td>0.108183</td>\n",
              "      <td>-5.027765e-02</td>\n",
              "      <td>-0.020800</td>\n",
              "      <td>2.836650e-02</td>\n",
              "      <td>1.569416e-02</td>\n",
              "      <td>1.925949e-01</td>\n",
              "      <td>-2.382952e-01</td>\n",
              "    </tr>\n",
              "    <tr>\n",
              "      <th>Wind speed (m/s)</th>\n",
              "      <td>0.121108</td>\n",
              "      <td>2.851967e-01</td>\n",
              "      <td>-0.036252</td>\n",
              "      <td>-0.336683</td>\n",
              "      <td>1.000000</td>\n",
              "      <td>0.171507</td>\n",
              "      <td>-0.176486</td>\n",
              "      <td>0.332274</td>\n",
              "      <td>-0.019674</td>\n",
              "      <td>-0.003554</td>\n",
              "      <td>2.301677e-02</td>\n",
              "      <td>0.005037</td>\n",
              "      <td>-1.280093e-01</td>\n",
              "      <td>8.385451e-02</td>\n",
              "      <td>-6.469790e-02</td>\n",
              "      <td>1.091865e-01</td>\n",
              "    </tr>\n",
              "    <tr>\n",
              "      <th>Visibility (10m)</th>\n",
              "      <td>0.199280</td>\n",
              "      <td>9.875348e-02</td>\n",
              "      <td>0.034794</td>\n",
              "      <td>-0.543090</td>\n",
              "      <td>0.171507</td>\n",
              "      <td>1.000000</td>\n",
              "      <td>-0.176630</td>\n",
              "      <td>0.149738</td>\n",
              "      <td>-0.167629</td>\n",
              "      <td>-0.121695</td>\n",
              "      <td>3.177281e-02</td>\n",
              "      <td>-0.026000</td>\n",
              "      <td>1.174133e-01</td>\n",
              "      <td>-1.874983e-01</td>\n",
              "      <td>6.195792e-02</td>\n",
              "      <td>8.616224e-03</td>\n",
              "    </tr>\n",
              "    <tr>\n",
              "      <th>Dew point temperature(°C)</th>\n",
              "      <td>0.379788</td>\n",
              "      <td>3.054372e-03</td>\n",
              "      <td>0.912798</td>\n",
              "      <td>0.536894</td>\n",
              "      <td>-0.176486</td>\n",
              "      <td>-0.176630</td>\n",
              "      <td>1.000000</td>\n",
              "      <td>0.094381</td>\n",
              "      <td>0.125597</td>\n",
              "      <td>-0.150887</td>\n",
              "      <td>-6.675910e-02</td>\n",
              "      <td>-0.052837</td>\n",
              "      <td>6.287829e-02</td>\n",
              "      <td>2.055888e-03</td>\n",
              "      <td>6.523778e-01</td>\n",
              "      <td>-7.223664e-01</td>\n",
              "    </tr>\n",
              "    <tr>\n",
              "      <th>Solar Radiation (MJ/m2)</th>\n",
              "      <td>0.261837</td>\n",
              "      <td>1.451309e-01</td>\n",
              "      <td>0.353505</td>\n",
              "      <td>-0.461919</td>\n",
              "      <td>0.332274</td>\n",
              "      <td>0.149738</td>\n",
              "      <td>0.094381</td>\n",
              "      <td>1.000000</td>\n",
              "      <td>-0.074290</td>\n",
              "      <td>-0.072301</td>\n",
              "      <td>-5.077255e-03</td>\n",
              "      <td>-0.007665</td>\n",
              "      <td>-3.137428e-02</td>\n",
              "      <td>7.997416e-02</td>\n",
              "      <td>1.284017e-01</td>\n",
              "      <td>-1.784202e-01</td>\n",
              "    </tr>\n",
              "    <tr>\n",
              "      <th>Rainfall(mm)</th>\n",
              "      <td>-0.123074</td>\n",
              "      <td>8.714642e-03</td>\n",
              "      <td>0.050282</td>\n",
              "      <td>0.236397</td>\n",
              "      <td>-0.019674</td>\n",
              "      <td>-0.167629</td>\n",
              "      <td>0.125597</td>\n",
              "      <td>-0.074290</td>\n",
              "      <td>1.000000</td>\n",
              "      <td>0.008500</td>\n",
              "      <td>-1.426911e-02</td>\n",
              "      <td>0.002055</td>\n",
              "      <td>-1.324655e-02</td>\n",
              "      <td>1.759519e-02</td>\n",
              "      <td>5.392817e-02</td>\n",
              "      <td>-5.875456e-02</td>\n",
              "    </tr>\n",
              "    <tr>\n",
              "      <th>Snowfall (cm)</th>\n",
              "      <td>-0.141804</td>\n",
              "      <td>-2.151645e-02</td>\n",
              "      <td>-0.218405</td>\n",
              "      <td>0.108183</td>\n",
              "      <td>-0.003554</td>\n",
              "      <td>-0.121695</td>\n",
              "      <td>-0.150887</td>\n",
              "      <td>-0.072301</td>\n",
              "      <td>0.008500</td>\n",
              "      <td>1.000000</td>\n",
              "      <td>-1.259072e-02</td>\n",
              "      <td>0.032089</td>\n",
              "      <td>-2.474218e-02</td>\n",
              "      <td>-9.978516e-02</td>\n",
              "      <td>-9.978516e-02</td>\n",
              "      <td>2.258745e-01</td>\n",
              "    </tr>\n",
              "    <tr>\n",
              "      <th>Holiday</th>\n",
              "      <td>-0.072338</td>\n",
              "      <td>1.691160e-20</td>\n",
              "      <td>-0.055931</td>\n",
              "      <td>-0.050278</td>\n",
              "      <td>0.023017</td>\n",
              "      <td>0.031773</td>\n",
              "      <td>-0.066759</td>\n",
              "      <td>-0.005077</td>\n",
              "      <td>-0.014269</td>\n",
              "      <td>-0.012591</td>\n",
              "      <td>1.000000e+00</td>\n",
              "      <td>-0.027624</td>\n",
              "      <td>1.498458e-02</td>\n",
              "      <td>-4.479057e-02</td>\n",
              "      <td>-7.393239e-02</td>\n",
              "      <td>1.045574e-01</td>\n",
              "    </tr>\n",
              "    <tr>\n",
              "      <th>Functioning Day</th>\n",
              "      <td>0.203943</td>\n",
              "      <td>5.439377e-03</td>\n",
              "      <td>-0.050170</td>\n",
              "      <td>-0.020800</td>\n",
              "      <td>0.005037</td>\n",
              "      <td>-0.026000</td>\n",
              "      <td>-0.052837</td>\n",
              "      <td>-0.007665</td>\n",
              "      <td>0.002055</td>\n",
              "      <td>0.032089</td>\n",
              "      <td>-2.762445e-02</td>\n",
              "      <td>1.000000</td>\n",
              "      <td>-2.537183e-01</td>\n",
              "      <td>3.841275e-02</td>\n",
              "      <td>1.083703e-01</td>\n",
              "      <td>1.067954e-01</td>\n",
              "    </tr>\n",
              "    <tr>\n",
              "      <th>Autumn</th>\n",
              "      <td>0.102753</td>\n",
              "      <td>2.708568e-19</td>\n",
              "      <td>0.059728</td>\n",
              "      <td>0.028367</td>\n",
              "      <td>-0.128009</td>\n",
              "      <td>0.117413</td>\n",
              "      <td>0.062878</td>\n",
              "      <td>-0.031374</td>\n",
              "      <td>-0.013247</td>\n",
              "      <td>-0.024742</td>\n",
              "      <td>1.498458e-02</td>\n",
              "      <td>-0.253718</td>\n",
              "      <td>1.000000e+00</td>\n",
              "      <td>-3.345477e-01</td>\n",
              "      <td>-3.345477e-01</td>\n",
              "      <td>-3.296859e-01</td>\n",
              "    </tr>\n",
              "    <tr>\n",
              "      <th>Spring</th>\n",
              "      <td>0.022888</td>\n",
              "      <td>1.686710e-19</td>\n",
              "      <td>0.007960</td>\n",
              "      <td>0.015694</td>\n",
              "      <td>0.083855</td>\n",
              "      <td>-0.187498</td>\n",
              "      <td>0.002056</td>\n",
              "      <td>0.079974</td>\n",
              "      <td>0.017595</td>\n",
              "      <td>-0.099785</td>\n",
              "      <td>-4.479057e-02</td>\n",
              "      <td>0.038413</td>\n",
              "      <td>-3.345477e-01</td>\n",
              "      <td>1.000000e+00</td>\n",
              "      <td>-3.369963e-01</td>\n",
              "      <td>-3.320989e-01</td>\n",
              "    </tr>\n",
              "    <tr>\n",
              "      <th>Summer</th>\n",
              "      <td>0.296549</td>\n",
              "      <td>1.686710e-19</td>\n",
              "      <td>0.665846</td>\n",
              "      <td>0.192595</td>\n",
              "      <td>-0.064698</td>\n",
              "      <td>0.061958</td>\n",
              "      <td>0.652378</td>\n",
              "      <td>0.128402</td>\n",
              "      <td>0.053928</td>\n",
              "      <td>-0.099785</td>\n",
              "      <td>-7.393239e-02</td>\n",
              "      <td>0.108370</td>\n",
              "      <td>-3.345477e-01</td>\n",
              "      <td>-3.369963e-01</td>\n",
              "      <td>1.000000e+00</td>\n",
              "      <td>-3.320989e-01</td>\n",
              "    </tr>\n",
              "    <tr>\n",
              "      <th>Winter</th>\n",
              "      <td>-0.424925</td>\n",
              "      <td>-1.019481e-19</td>\n",
              "      <td>-0.738720</td>\n",
              "      <td>-0.238295</td>\n",
              "      <td>0.109186</td>\n",
              "      <td>0.008616</td>\n",
              "      <td>-0.722366</td>\n",
              "      <td>-0.178420</td>\n",
              "      <td>-0.058755</td>\n",
              "      <td>0.225875</td>\n",
              "      <td>1.045574e-01</td>\n",
              "      <td>0.106795</td>\n",
              "      <td>-3.296859e-01</td>\n",
              "      <td>-3.320989e-01</td>\n",
              "      <td>-3.320989e-01</td>\n",
              "      <td>1.000000e+00</td>\n",
              "    </tr>\n",
              "  </tbody>\n",
              "</table>\n",
              "</div>"
            ],
            "text/plain": [
              "                           Rented Bike Count  ...        Winter\n",
              "Rented Bike Count                   1.000000  ... -4.249251e-01\n",
              "Hour                                0.410257  ... -1.019481e-19\n",
              "Temperature(°C)                     0.538558  ... -7.387196e-01\n",
              "Humidity(%)                        -0.199780  ... -2.382952e-01\n",
              "Wind speed (m/s)                    0.121108  ...  1.091865e-01\n",
              "Visibility (10m)                    0.199280  ...  8.616224e-03\n",
              "Dew point temperature(°C)           0.379788  ... -7.223664e-01\n",
              "Solar Radiation (MJ/m2)             0.261837  ... -1.784202e-01\n",
              "Rainfall(mm)                       -0.123074  ... -5.875456e-02\n",
              "Snowfall (cm)                      -0.141804  ...  2.258745e-01\n",
              "Holiday                            -0.072338  ...  1.045574e-01\n",
              "Functioning Day                     0.203943  ...  1.067954e-01\n",
              "Autumn                              0.102753  ... -3.296859e-01\n",
              "Spring                              0.022888  ... -3.320989e-01\n",
              "Summer                              0.296549  ... -3.320989e-01\n",
              "Winter                             -0.424925  ...  1.000000e+00\n",
              "\n",
              "[16 rows x 16 columns]"
            ]
          },
          "metadata": {
            "tags": []
          },
          "execution_count": 28
        }
      ]
    },
    {
      "cell_type": "code",
      "metadata": {
        "id": "vh7kRbv2jV3-"
      },
      "source": [
        "def model_builder(hp):\n",
        "  model = tf.keras.Sequential()\n",
        "\n",
        "  hp_units_layer1 = hp.Int('units1', min_value=32, max_value=512, step=32)\n",
        "  hp_units_layer2 = hp.Int('units2', min_value=32, max_value=512, step=32)\n",
        "  model.add(layers.Dense(units=hp_units_layer1, activation='relu'))\n",
        "  model.add(layers.Dense(units=hp_units_layer2, activation='relu'))\n",
        "  model.add(layers.Dense(1))\n",
        "\n",
        "  hp_learning_rate = hp.Choice('learning_rate', values=[1e-2, 1e-3, 1e-4])\n",
        "\n",
        "  model.compile(\n",
        "    optimizer = tf.optimizers.Adam(learning_rate=hp_learning_rate),\n",
        "    loss = 'mean_squared_error'\n",
        "  )\n",
        "  \n",
        "  return model"
      ],
      "execution_count": null,
      "outputs": []
    },
    {
      "cell_type": "code",
      "metadata": {
        "id": "5MaxnXVpnXAP"
      },
      "source": [
        "tuner = kt.Hyperband(model_builder,\n",
        "                     objective='val_loss',\n",
        "                     max_epochs=10,\n",
        "                     factor=3)"
      ],
      "execution_count": null,
      "outputs": []
    },
    {
      "cell_type": "code",
      "metadata": {
        "colab": {
          "base_uri": "https://localhost:8080/"
        },
        "id": "P-3BLkSin8bR",
        "outputId": "5c254090-2ea5-4ff5-fa41-fe03de565e4e"
      },
      "source": [
        "stop_early = tf.keras.callbacks.EarlyStopping(monitor='val_loss', patience=10)\n",
        "tuner.search(train_features, train_labels, epochs=70, validation_split=0.2, callbacks=[stop_early])"
      ],
      "execution_count": null,
      "outputs": [
        {
          "output_type": "stream",
          "text": [
            "Trial 30 Complete [00h 00m 04s]\n",
            "val_loss: 0.11703698337078094\n",
            "\n",
            "Best val_loss So Far: 0.11703698337078094\n",
            "Total elapsed time: 00h 01m 27s\n",
            "INFO:tensorflow:Oracle triggered exit\n"
          ],
          "name": "stdout"
        }
      ]
    },
    {
      "cell_type": "code",
      "metadata": {
        "colab": {
          "base_uri": "https://localhost:8080/"
        },
        "id": "LNxPUtFFXz-f",
        "outputId": "54d8a516-455f-4254-e836-4823c89106f9"
      },
      "source": [
        "best_hps=tuner.get_best_hyperparameters(num_trials=1)[0]\n",
        "print(best_hps.get('units1'),best_hps.get('units2'))\n",
        "print(best_hps.get('learning_rate'))"
      ],
      "execution_count": null,
      "outputs": [
        {
          "output_type": "stream",
          "text": [
            "192 160\n",
            "0.001\n"
          ],
          "name": "stdout"
        }
      ]
    },
    {
      "cell_type": "markdown",
      "metadata": {
        "id": "23tmQwSEmH6P"
      },
      "source": [
        "**Model Training**"
      ]
    },
    {
      "cell_type": "code",
      "metadata": {
        "id": "z1D_NZGtiTNy"
      },
      "source": [
        "model = tuner.hypermodel.build(best_hps)"
      ],
      "execution_count": null,
      "outputs": []
    },
    {
      "cell_type": "code",
      "metadata": {
        "id": "5SGNBmuSjIrv",
        "colab": {
          "base_uri": "https://localhost:8080/"
        },
        "outputId": "13fa9e2c-c462-4854-c080-0c98e5a095fb"
      },
      "source": [
        "callback = tf.keras.callbacks.EarlyStopping(monitor='val_loss', patience=15)\n",
        "\n",
        "history = model.fit(\n",
        "    train_features, train_labels, \n",
        "    epochs=100,\n",
        "    verbose=1,\n",
        "    validation_split = 0.2,\n",
        "    callbacks=[callback]\n",
        "    )"
      ],
      "execution_count": null,
      "outputs": [
        {
          "output_type": "stream",
          "text": [
            "Epoch 1/100\n",
            "173/173 [==============================] - 1s 3ms/step - loss: 0.4081 - val_loss: 0.1864\n",
            "Epoch 2/100\n",
            "173/173 [==============================] - 0s 2ms/step - loss: 0.1899 - val_loss: 0.1509\n",
            "Epoch 3/100\n",
            "173/173 [==============================] - 0s 2ms/step - loss: 0.1662 - val_loss: 0.1404\n",
            "Epoch 4/100\n",
            "173/173 [==============================] - 0s 2ms/step - loss: 0.1377 - val_loss: 0.1362\n",
            "Epoch 5/100\n",
            "173/173 [==============================] - 0s 2ms/step - loss: 0.1417 - val_loss: 0.1210\n",
            "Epoch 6/100\n",
            "173/173 [==============================] - 0s 2ms/step - loss: 0.1306 - val_loss: 0.1361\n",
            "Epoch 7/100\n",
            "173/173 [==============================] - 0s 2ms/step - loss: 0.1266 - val_loss: 0.1280\n",
            "Epoch 8/100\n",
            "173/173 [==============================] - 0s 2ms/step - loss: 0.1286 - val_loss: 0.1282\n",
            "Epoch 9/100\n",
            "173/173 [==============================] - 0s 2ms/step - loss: 0.1268 - val_loss: 0.1213\n",
            "Epoch 10/100\n",
            "173/173 [==============================] - 0s 2ms/step - loss: 0.1347 - val_loss: 0.1154\n",
            "Epoch 11/100\n",
            "173/173 [==============================] - 0s 2ms/step - loss: 0.1219 - val_loss: 0.1213\n",
            "Epoch 12/100\n",
            "173/173 [==============================] - 0s 2ms/step - loss: 0.1172 - val_loss: 0.1138\n",
            "Epoch 13/100\n",
            "173/173 [==============================] - 0s 2ms/step - loss: 0.1102 - val_loss: 0.1182\n",
            "Epoch 14/100\n",
            "173/173 [==============================] - 0s 2ms/step - loss: 0.1150 - val_loss: 0.1296\n",
            "Epoch 15/100\n",
            "173/173 [==============================] - 0s 2ms/step - loss: 0.1173 - val_loss: 0.1181\n",
            "Epoch 16/100\n",
            "173/173 [==============================] - 0s 2ms/step - loss: 0.1072 - val_loss: 0.1195\n",
            "Epoch 17/100\n",
            "173/173 [==============================] - 0s 2ms/step - loss: 0.1056 - val_loss: 0.1291\n",
            "Epoch 18/100\n",
            "173/173 [==============================] - 0s 2ms/step - loss: 0.1051 - val_loss: 0.1142\n",
            "Epoch 19/100\n",
            "173/173 [==============================] - 0s 2ms/step - loss: 0.1086 - val_loss: 0.1225\n",
            "Epoch 20/100\n",
            "173/173 [==============================] - 0s 2ms/step - loss: 0.1095 - val_loss: 0.1197\n",
            "Epoch 21/100\n",
            "173/173 [==============================] - 0s 2ms/step - loss: 0.1135 - val_loss: 0.1149\n",
            "Epoch 22/100\n",
            "173/173 [==============================] - 0s 2ms/step - loss: 0.1014 - val_loss: 0.1195\n",
            "Epoch 23/100\n",
            "173/173 [==============================] - 0s 2ms/step - loss: 0.1053 - val_loss: 0.1184\n",
            "Epoch 24/100\n",
            "173/173 [==============================] - 0s 2ms/step - loss: 0.0972 - val_loss: 0.1132\n",
            "Epoch 25/100\n",
            "173/173 [==============================] - 0s 2ms/step - loss: 0.0977 - val_loss: 0.1220\n",
            "Epoch 26/100\n",
            "173/173 [==============================] - 0s 2ms/step - loss: 0.1019 - val_loss: 0.1288\n",
            "Epoch 27/100\n",
            "173/173 [==============================] - 0s 2ms/step - loss: 0.1014 - val_loss: 0.1285\n",
            "Epoch 28/100\n",
            "173/173 [==============================] - 0s 2ms/step - loss: 0.1024 - val_loss: 0.1163\n",
            "Epoch 29/100\n",
            "173/173 [==============================] - 0s 2ms/step - loss: 0.0922 - val_loss: 0.1092\n",
            "Epoch 30/100\n",
            "173/173 [==============================] - 0s 2ms/step - loss: 0.1075 - val_loss: 0.1197\n",
            "Epoch 31/100\n",
            "173/173 [==============================] - 0s 2ms/step - loss: 0.0966 - val_loss: 0.1314\n",
            "Epoch 32/100\n",
            "173/173 [==============================] - 0s 2ms/step - loss: 0.0958 - val_loss: 0.1178\n",
            "Epoch 33/100\n",
            "173/173 [==============================] - 0s 2ms/step - loss: 0.1059 - val_loss: 0.1089\n",
            "Epoch 34/100\n",
            "173/173 [==============================] - 0s 2ms/step - loss: 0.0943 - val_loss: 0.1122\n",
            "Epoch 35/100\n",
            "173/173 [==============================] - 0s 2ms/step - loss: 0.0917 - val_loss: 0.1112\n",
            "Epoch 36/100\n",
            "173/173 [==============================] - 0s 2ms/step - loss: 0.0929 - val_loss: 0.1188\n",
            "Epoch 37/100\n",
            "173/173 [==============================] - 0s 2ms/step - loss: 0.0932 - val_loss: 0.1212\n",
            "Epoch 38/100\n",
            "173/173 [==============================] - 0s 2ms/step - loss: 0.0903 - val_loss: 0.1178\n",
            "Epoch 39/100\n",
            "173/173 [==============================] - 0s 2ms/step - loss: 0.0871 - val_loss: 0.1304\n",
            "Epoch 40/100\n",
            "173/173 [==============================] - 0s 2ms/step - loss: 0.0846 - val_loss: 0.1197\n",
            "Epoch 41/100\n",
            "173/173 [==============================] - 0s 2ms/step - loss: 0.0801 - val_loss: 0.1284\n",
            "Epoch 42/100\n",
            "173/173 [==============================] - 0s 2ms/step - loss: 0.0851 - val_loss: 0.1258\n",
            "Epoch 43/100\n",
            "173/173 [==============================] - 0s 2ms/step - loss: 0.0950 - val_loss: 0.1263\n",
            "Epoch 44/100\n",
            "173/173 [==============================] - 0s 2ms/step - loss: 0.0912 - val_loss: 0.1191\n",
            "Epoch 45/100\n",
            "173/173 [==============================] - 0s 2ms/step - loss: 0.0869 - val_loss: 0.1167\n",
            "Epoch 46/100\n",
            "173/173 [==============================] - 0s 2ms/step - loss: 0.0849 - val_loss: 0.1173\n",
            "Epoch 47/100\n",
            "173/173 [==============================] - 0s 2ms/step - loss: 0.0806 - val_loss: 0.1203\n",
            "Epoch 48/100\n",
            "173/173 [==============================] - 0s 2ms/step - loss: 0.0841 - val_loss: 0.1202\n"
          ],
          "name": "stdout"
        }
      ]
    },
    {
      "cell_type": "code",
      "metadata": {
        "colab": {
          "base_uri": "https://localhost:8080/"
        },
        "id": "fM8FRkV1uDbo",
        "outputId": "29621818-240a-4de5-af00-5e3342e3947a"
      },
      "source": [
        "val_acc_per_epoch = history.history['val_loss']\n",
        "best_epoch = val_acc_per_epoch.index(min(val_acc_per_epoch)) + 1\n",
        "print('Best epoch: %d' % (best_epoch,))"
      ],
      "execution_count": null,
      "outputs": [
        {
          "output_type": "stream",
          "text": [
            "Best epoch: 33\n"
          ],
          "name": "stdout"
        }
      ]
    },
    {
      "cell_type": "code",
      "metadata": {
        "colab": {
          "base_uri": "https://localhost:8080/"
        },
        "id": "b7Id7uaxuR2m",
        "outputId": "108a2931-0bea-4bb3-eed2-ce1c18c17f81"
      },
      "source": [
        "hypermodel = tuner.hypermodel.build(best_hps)\n",
        "\n",
        "# Retrain the model\n",
        "hypermodel.fit(train_features, train_labels, epochs=best_epoch, validation_split=0.2)"
      ],
      "execution_count": null,
      "outputs": [
        {
          "output_type": "stream",
          "text": [
            "Epoch 1/33\n",
            "173/173 [==============================] - 1s 3ms/step - loss: 0.4180 - val_loss: 0.1816\n",
            "Epoch 2/33\n",
            "173/173 [==============================] - 0s 2ms/step - loss: 0.1961 - val_loss: 0.1522\n",
            "Epoch 3/33\n",
            "173/173 [==============================] - 0s 2ms/step - loss: 0.1725 - val_loss: 0.1517\n",
            "Epoch 4/33\n",
            "173/173 [==============================] - 0s 2ms/step - loss: 0.1540 - val_loss: 0.1461\n",
            "Epoch 5/33\n",
            "173/173 [==============================] - 0s 2ms/step - loss: 0.1381 - val_loss: 0.1272\n",
            "Epoch 6/33\n",
            "173/173 [==============================] - 0s 2ms/step - loss: 0.1352 - val_loss: 0.1292\n",
            "Epoch 7/33\n",
            "173/173 [==============================] - 0s 2ms/step - loss: 0.1256 - val_loss: 0.1244\n",
            "Epoch 8/33\n",
            "173/173 [==============================] - 0s 2ms/step - loss: 0.1263 - val_loss: 0.1323\n",
            "Epoch 9/33\n",
            "173/173 [==============================] - 0s 2ms/step - loss: 0.1225 - val_loss: 0.1223\n",
            "Epoch 10/33\n",
            "173/173 [==============================] - 0s 2ms/step - loss: 0.1212 - val_loss: 0.1298\n",
            "Epoch 11/33\n",
            "173/173 [==============================] - 0s 2ms/step - loss: 0.1296 - val_loss: 0.1137\n",
            "Epoch 12/33\n",
            "173/173 [==============================] - 0s 2ms/step - loss: 0.1200 - val_loss: 0.1158\n",
            "Epoch 13/33\n",
            "173/173 [==============================] - 0s 3ms/step - loss: 0.1070 - val_loss: 0.1280\n",
            "Epoch 14/33\n",
            "173/173 [==============================] - 0s 2ms/step - loss: 0.1207 - val_loss: 0.1127\n",
            "Epoch 15/33\n",
            "173/173 [==============================] - 0s 2ms/step - loss: 0.1051 - val_loss: 0.1123\n",
            "Epoch 16/33\n",
            "173/173 [==============================] - 0s 2ms/step - loss: 0.1031 - val_loss: 0.1118\n",
            "Epoch 17/33\n",
            "173/173 [==============================] - 0s 2ms/step - loss: 0.1159 - val_loss: 0.1213\n",
            "Epoch 18/33\n",
            "173/173 [==============================] - 0s 2ms/step - loss: 0.1057 - val_loss: 0.1100\n",
            "Epoch 19/33\n",
            "173/173 [==============================] - 0s 2ms/step - loss: 0.1008 - val_loss: 0.1240\n",
            "Epoch 20/33\n",
            "173/173 [==============================] - 0s 2ms/step - loss: 0.1191 - val_loss: 0.1134\n",
            "Epoch 21/33\n",
            "173/173 [==============================] - 0s 2ms/step - loss: 0.1097 - val_loss: 0.1133\n",
            "Epoch 22/33\n",
            "173/173 [==============================] - 0s 2ms/step - loss: 0.1015 - val_loss: 0.1234\n",
            "Epoch 23/33\n",
            "173/173 [==============================] - 0s 2ms/step - loss: 0.1086 - val_loss: 0.1163\n",
            "Epoch 24/33\n",
            "173/173 [==============================] - 0s 2ms/step - loss: 0.1014 - val_loss: 0.1095\n",
            "Epoch 25/33\n",
            "173/173 [==============================] - 0s 2ms/step - loss: 0.1052 - val_loss: 0.1122\n",
            "Epoch 26/33\n",
            "173/173 [==============================] - 0s 2ms/step - loss: 0.1027 - val_loss: 0.1187\n",
            "Epoch 27/33\n",
            "173/173 [==============================] - 0s 2ms/step - loss: 0.1035 - val_loss: 0.1126\n",
            "Epoch 28/33\n",
            "173/173 [==============================] - 0s 2ms/step - loss: 0.0948 - val_loss: 0.1243\n",
            "Epoch 29/33\n",
            "173/173 [==============================] - 0s 2ms/step - loss: 0.0938 - val_loss: 0.1202\n",
            "Epoch 30/33\n",
            "173/173 [==============================] - 0s 2ms/step - loss: 0.0983 - val_loss: 0.1104\n",
            "Epoch 31/33\n",
            "173/173 [==============================] - 0s 2ms/step - loss: 0.0963 - val_loss: 0.1143\n",
            "Epoch 32/33\n",
            "173/173 [==============================] - 0s 2ms/step - loss: 0.1000 - val_loss: 0.1212\n",
            "Epoch 33/33\n",
            "173/173 [==============================] - 0s 2ms/step - loss: 0.0926 - val_loss: 0.1139\n"
          ],
          "name": "stdout"
        },
        {
          "output_type": "execute_result",
          "data": {
            "text/plain": [
              "<tensorflow.python.keras.callbacks.History at 0x7fdf73011f50>"
            ]
          },
          "metadata": {
            "tags": []
          },
          "execution_count": 36
        }
      ]
    },
    {
      "cell_type": "markdown",
      "metadata": {
        "id": "xPyGIa9RmRV9"
      },
      "source": [
        "**Evaluation**"
      ]
    },
    {
      "cell_type": "code",
      "metadata": {
        "id": "ViqAs1U1gwBb"
      },
      "source": [
        "def plot_loss(history):\n",
        "  plt.plot(history.history['loss'], label='loss')\n",
        "  plt.plot(history.history['val_loss'], label='val_loss')\n",
        "  plt.ylim([0, 0.20])\n",
        "  plt.xlabel('Epoch')\n",
        "  plt.ylabel('Error')\n",
        "  plt.legend()\n",
        "  plt.grid(True)"
      ],
      "execution_count": null,
      "outputs": []
    },
    {
      "cell_type": "code",
      "metadata": {
        "colab": {
          "base_uri": "https://localhost:8080/",
          "height": 279
        },
        "id": "GoU_Lwvt3Zc5",
        "outputId": "82c0a0a1-367c-47d1-ce62-d47502eb2417"
      },
      "source": [
        "test_predictions = model.predict(test_features).flatten()\n",
        "error = test_predictions - test_labels\n",
        "\n",
        "plt.hist(error, bins=30)\n",
        "plt.xlabel('Prediction Error ')\n",
        "_ = plt.ylabel('Count')"
      ],
      "execution_count": null,
      "outputs": [
        {
          "output_type": "display_data",
          "data": {
            "image/png": "[encoded data removed]",
            "text/plain": [
              "<Figure size 432x288 with 1 Axes>"
            ]
          },
          "metadata": {
            "tags": [],
            "needs_background": "light"
          }
        }
      ]
    },
    {
      "cell_type": "code",
      "metadata": {
        "colab": {
          "base_uri": "https://localhost:8080/",
          "height": 283
        },
        "id": "jWowV8g1hHy4",
        "outputId": "3fcad62a-18f1-408b-c922-d2a6f92b72dd"
      },
      "source": [
        "plot_loss(history)"
      ],
      "execution_count": null,
      "outputs": [
        {
          "output_type": "display_data",
          "data": {
            "image/png": "[encoded data removed]",
            "text/plain": [
              "<Figure size 432x288 with 1 Axes>"
            ]
          },
          "metadata": {
            "tags": [],
            "needs_background": "light"
          }
        }
      ]
    },
    {
      "cell_type": "code",
      "metadata": {
        "colab": {
          "base_uri": "https://localhost:8080/"
        },
        "id": "44scMt28RZFS",
        "outputId": "a58166a0-da92-4599-be31-45c1e3bdb115"
      },
      "source": [
        "error.std()"
      ],
      "execution_count": null,
      "outputs": [
        {
          "output_type": "execute_result",
          "data": {
            "text/plain": [
              "0.3533999572978382"
            ]
          },
          "metadata": {
            "tags": []
          },
          "execution_count": 40
        }
      ]
    },
    {
      "cell_type": "code",
      "metadata": {
        "colab": {
          "base_uri": "https://localhost:8080/"
        },
        "id": "0YndJFSd-U1O",
        "outputId": "824a26e4-b6e2-47ee-b47a-c73d2f9baa1b"
      },
      "source": [
        "model.evaluate(test_features, test_labels, verbose=0)"
      ],
      "execution_count": null,
      "outputs": [
        {
          "output_type": "execute_result",
          "data": {
            "text/plain": [
              "0.12653511762619019"
            ]
          },
          "metadata": {
            "tags": []
          },
          "execution_count": 41
        }
      ]
    },
    {
      "cell_type": "code",
      "metadata": {
        "id": "EUcoLBDhF0tx"
      },
      "source": [
        "from sklearn.metrics import r2_score\n",
        "R2 = r2_score(test_labels, test_predictions)"
      ],
      "execution_count": null,
      "outputs": []
    },
    {
      "cell_type": "code",
      "metadata": {
        "colab": {
          "base_uri": "https://localhost:8080/"
        },
        "id": "hFoZ9KwsGhcQ",
        "outputId": "e5fb0e18-b009-4a9d-9681-4c02638b47b9"
      },
      "source": [
        "R2"
      ],
      "execution_count": null,
      "outputs": [
        {
          "output_type": "execute_result",
          "data": {
            "text/plain": [
              "0.8827530912218154"
            ]
          },
          "metadata": {
            "tags": []
          },
          "execution_count": 43
        }
      ]
    }
  ]
}